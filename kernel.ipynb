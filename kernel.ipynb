{
 "cells": [
  {
   "cell_type": "code",
   "execution_count": 1,
   "id": "17acc89c",
   "metadata": {},
   "outputs": [],
   "source": [
    "import pandas as pd\n",
    "import numpy as np\n",
    "import seaborn as sns\n",
    "import matplotlib.pyplot as plt\n",
    "%matplotlib inline"
   ]
  },
  {
   "cell_type": "code",
   "execution_count": 2,
   "id": "537e6ddf",
   "metadata": {},
   "outputs": [
    {
     "data": {
      "text/html": [
       "<div>\n",
       "<style scoped>\n",
       "    .dataframe tbody tr th:only-of-type {\n",
       "        vertical-align: middle;\n",
       "    }\n",
       "\n",
       "    .dataframe tbody tr th {\n",
       "        vertical-align: top;\n",
       "    }\n",
       "\n",
       "    .dataframe thead th {\n",
       "        text-align: right;\n",
       "    }\n",
       "</style>\n",
       "<table border=\"1\" class=\"dataframe\">\n",
       "  <thead>\n",
       "    <tr style=\"text-align: right;\">\n",
       "      <th></th>\n",
       "      <th>ptid</th>\n",
       "      <th>name</th>\n",
       "      <th>DOA</th>\n",
       "      <th>lama</th>\n",
       "      <th>DOD</th>\n",
       "      <th>DOC</th>\n",
       "      <th>age</th>\n",
       "      <th>parity</th>\n",
       "      <th>Gaatde</th>\n",
       "      <th>como</th>\n",
       "      <th>syatGA</th>\n",
       "      <th>exposure</th>\n",
       "      <th>sympdays</th>\n",
       "      <th>Presenting symptoms</th>\n",
       "      <th>Unnamed: 14</th>\n",
       "      <th>Unnamed: 15</th>\n",
       "      <th>Unnamed: 16</th>\n",
       "      <th>sign</th>\n",
       "      <th>spo2</th>\n",
       "      <th>RR</th>\n",
       "      <th>leuko</th>\n",
       "      <th>crp</th>\n",
       "      <th>ldh</th>\n",
       "      <th>hb</th>\n",
       "      <th>low ly</th>\n",
       "      <th>low Nlowpt</th>\n",
       "      <th>lowplt</th>\n",
       "      <th>ferritin</th>\n",
       "      <th>NLR</th>\n",
       "      <th>lft</th>\n",
       "      <th>rft</th>\n",
       "      <th>pcr dt</th>\n",
       "      <th>other cs</th>\n",
       "      <th>bd c/s</th>\n",
       "      <th>XRAy chest</th>\n",
       "      <th>ct</th>\n",
       "      <th>pron</th>\n",
       "      <th>Azithromycin</th>\n",
       "      <th>Unnamed: 38</th>\n",
       "      <th>cefuroxi</th>\n",
       "      <th>metro</th>\n",
       "      <th>Toclizumab</th>\n",
       "      <th>Unnamed: 42</th>\n",
       "      <th>capbofin</th>\n",
       "      <th>aulfungin</th>\n",
       "      <th>clox</th>\n",
       "      <th>vancomycin</th>\n",
       "      <th>meropenam</th>\n",
       "      <th>Tazosin</th>\n",
       "      <th>Unnamed: 49</th>\n",
       "      <th>Hydroxyc</th>\n",
       "      <th>colistin</th>\n",
       "      <th>Unnamed: 52</th>\n",
       "      <th>hydroc</th>\n",
       "      <th>orpred</th>\n",
       "      <th>dex</th>\n",
       "      <th>Unnamed: 56</th>\n",
       "      <th>lmwh befolmw</th>\n",
       "      <th>lmwhafter</th>\n",
       "      <th>Methyl pred</th>\n",
       "      <th>Unnamed: 60</th>\n",
       "      <th>plasma</th>\n",
       "      <th>MOD</th>\n",
       "      <th>postdel</th>\n",
       "      <th>pregoutpregloss</th>\n",
       "      <th>Unnamed: 65</th>\n",
       "      <th>pretrm</th>\n",
       "      <th>neo.outco</th>\n",
       "      <th>mdt</th>\n",
       "      <th>o2lt</th>\n",
       "      <th>spo2.1</th>\n",
       "      <th>dayofter</th>\n",
       "      <th>csstat</th>\n",
       "      <th>icucareint days</th>\n",
       "      <th>intubaday</th>\n",
       "      <th>clin courseDOD</th>\n",
       "      <th>dtof dth</th>\n",
       "      <th>c of dth</th>\n",
       "      <th>con of dis</th>\n",
       "      <th>comments</th>\n",
       "    </tr>\n",
       "  </thead>\n",
       "  <tbody>\n",
       "    <tr>\n",
       "      <th>0</th>\n",
       "      <td>662631</td>\n",
       "      <td>shahra</td>\n",
       "      <td>2020-02-09 00:00:00</td>\n",
       "      <td>No</td>\n",
       "      <td>29/9/2020</td>\n",
       "      <td>2020-03-09 00:00:00</td>\n",
       "      <td>A</td>\n",
       "      <td>A</td>\n",
       "      <td>C</td>\n",
       "      <td>A</td>\n",
       "      <td>C</td>\n",
       "      <td>A</td>\n",
       "      <td>10.0</td>\n",
       "      <td>A</td>\n",
       "      <td>F</td>\n",
       "      <td>NaN</td>\n",
       "      <td>NaN</td>\n",
       "      <td>B</td>\n",
       "      <td>C</td>\n",
       "      <td>B</td>\n",
       "      <td>A</td>\n",
       "      <td>B</td>\n",
       "      <td>A</td>\n",
       "      <td>A</td>\n",
       "      <td>B</td>\n",
       "      <td>B</td>\n",
       "      <td>B</td>\n",
       "      <td>c</td>\n",
       "      <td>A</td>\n",
       "      <td>A</td>\n",
       "      <td>A</td>\n",
       "      <td>2020-02-09 00:00:00</td>\n",
       "      <td>A</td>\n",
       "      <td>staphcoagneg</td>\n",
       "      <td>B</td>\n",
       "      <td>A</td>\n",
       "      <td>B</td>\n",
       "      <td>NaN</td>\n",
       "      <td>NaN</td>\n",
       "      <td>NaN</td>\n",
       "      <td>NaN</td>\n",
       "      <td>no</td>\n",
       "      <td>NaN</td>\n",
       "      <td>yes</td>\n",
       "      <td>20/9/2020 stat</td>\n",
       "      <td>2020-09-09 00:00:00</td>\n",
       "      <td>yes</td>\n",
       "      <td>yes</td>\n",
       "      <td>yes</td>\n",
       "      <td>13/9/2020</td>\n",
       "      <td>NaN</td>\n",
       "      <td>9</td>\n",
       "      <td>20/9/2020</td>\n",
       "      <td>no</td>\n",
       "      <td>no</td>\n",
       "      <td>yes</td>\n",
       "      <td>8mg</td>\n",
       "      <td>29</td>\n",
       "      <td>yes</td>\n",
       "      <td>no</td>\n",
       "      <td>NaN</td>\n",
       "      <td>NaN</td>\n",
       "      <td>A</td>\n",
       "      <td>G</td>\n",
       "      <td>A</td>\n",
       "      <td>A</td>\n",
       "      <td>B</td>\n",
       "      <td>B</td>\n",
       "      <td>B</td>\n",
       "      <td>15.0</td>\n",
       "      <td>80.0</td>\n",
       "      <td>1.0</td>\n",
       "      <td>A</td>\n",
       "      <td>yes</td>\n",
       "      <td>yes</td>\n",
       "      <td>A</td>\n",
       "      <td>survived</td>\n",
       "      <td>NaN</td>\n",
       "      <td>Improved</td>\n",
       "      <td>NaN</td>\n",
       "    </tr>\n",
       "    <tr>\n",
       "      <th>1</th>\n",
       "      <td>106606</td>\n",
       "      <td>shamsa</td>\n",
       "      <td>26/7/2020</td>\n",
       "      <td>yes</td>\n",
       "      <td>27/7/2020</td>\n",
       "      <td>NaN</td>\n",
       "      <td>A</td>\n",
       "      <td>A</td>\n",
       "      <td>H</td>\n",
       "      <td>H</td>\n",
       "      <td>C</td>\n",
       "      <td>A</td>\n",
       "      <td>6.0</td>\n",
       "      <td>A</td>\n",
       "      <td>D</td>\n",
       "      <td>H</td>\n",
       "      <td>NaN</td>\n",
       "      <td>E</td>\n",
       "      <td>A</td>\n",
       "      <td>A</td>\n",
       "      <td>A</td>\n",
       "      <td>A</td>\n",
       "      <td>C</td>\n",
       "      <td>A</td>\n",
       "      <td>B</td>\n",
       "      <td>B</td>\n",
       "      <td>B</td>\n",
       "      <td>E</td>\n",
       "      <td>A</td>\n",
       "      <td>A</td>\n",
       "      <td>A</td>\n",
       "      <td>2020-12-08 00:00:00</td>\n",
       "      <td>A</td>\n",
       "      <td>A</td>\n",
       "      <td>A</td>\n",
       "      <td>A</td>\n",
       "      <td>NaN</td>\n",
       "      <td>NaN</td>\n",
       "      <td>NaN</td>\n",
       "      <td>NaN</td>\n",
       "      <td>NaN</td>\n",
       "      <td>no</td>\n",
       "      <td>NaN</td>\n",
       "      <td>NaN</td>\n",
       "      <td>NaN</td>\n",
       "      <td>NaN</td>\n",
       "      <td>NaN</td>\n",
       "      <td>NaN</td>\n",
       "      <td>NaN</td>\n",
       "      <td>NaN</td>\n",
       "      <td>NaN</td>\n",
       "      <td>NaN</td>\n",
       "      <td>NaN</td>\n",
       "      <td>no</td>\n",
       "      <td>no</td>\n",
       "      <td>no</td>\n",
       "      <td>NaN</td>\n",
       "      <td>1</td>\n",
       "      <td>yes</td>\n",
       "      <td>no</td>\n",
       "      <td>NaN</td>\n",
       "      <td>NaN</td>\n",
       "      <td>B</td>\n",
       "      <td>H</td>\n",
       "      <td>NaN</td>\n",
       "      <td>NaN</td>\n",
       "      <td>A</td>\n",
       "      <td>C</td>\n",
       "      <td>NaN</td>\n",
       "      <td>NaN</td>\n",
       "      <td>98.0</td>\n",
       "      <td>NaN</td>\n",
       "      <td>A</td>\n",
       "      <td>no</td>\n",
       "      <td>no</td>\n",
       "      <td>NaN</td>\n",
       "      <td>survived</td>\n",
       "      <td>NaN</td>\n",
       "      <td>improved</td>\n",
       "      <td>NaN</td>\n",
       "    </tr>\n",
       "    <tr>\n",
       "      <th>2</th>\n",
       "      <td>117524</td>\n",
       "      <td>muna</td>\n",
       "      <td>2020-08-06 00:00:00</td>\n",
       "      <td>no</td>\n",
       "      <td>2020-11-06 00:00:00</td>\n",
       "      <td>2020-11-06 00:00:00</td>\n",
       "      <td>B</td>\n",
       "      <td>A</td>\n",
       "      <td>H</td>\n",
       "      <td>H</td>\n",
       "      <td>C</td>\n",
       "      <td>A</td>\n",
       "      <td>4.0</td>\n",
       "      <td>A</td>\n",
       "      <td>D</td>\n",
       "      <td>E</td>\n",
       "      <td>I</td>\n",
       "      <td>A</td>\n",
       "      <td>C</td>\n",
       "      <td>B</td>\n",
       "      <td>B</td>\n",
       "      <td>C</td>\n",
       "      <td>C</td>\n",
       "      <td>A</td>\n",
       "      <td>B</td>\n",
       "      <td>B</td>\n",
       "      <td>B</td>\n",
       "      <td>B</td>\n",
       "      <td>B</td>\n",
       "      <td>B</td>\n",
       "      <td>A</td>\n",
       "      <td>26/7/2020</td>\n",
       "      <td>mdro</td>\n",
       "      <td>Klebsleela</td>\n",
       "      <td>C</td>\n",
       "      <td>A</td>\n",
       "      <td>A</td>\n",
       "      <td>yes</td>\n",
       "      <td>NaN</td>\n",
       "      <td>NaN</td>\n",
       "      <td>NaN</td>\n",
       "      <td>yes</td>\n",
       "      <td>NaN</td>\n",
       "      <td>NaN</td>\n",
       "      <td>NaN</td>\n",
       "      <td>NaN</td>\n",
       "      <td>yes</td>\n",
       "      <td>yes</td>\n",
       "      <td>yes</td>\n",
       "      <td>NaN</td>\n",
       "      <td>NaN</td>\n",
       "      <td>5</td>\n",
       "      <td>25/8/2020</td>\n",
       "      <td>yes</td>\n",
       "      <td>no</td>\n",
       "      <td>no</td>\n",
       "      <td>NaN</td>\n",
       "      <td>19</td>\n",
       "      <td>yes</td>\n",
       "      <td>yes yes</td>\n",
       "      <td>NaN</td>\n",
       "      <td>NaN</td>\n",
       "      <td>A</td>\n",
       "      <td>H</td>\n",
       "      <td>A</td>\n",
       "      <td>NaN</td>\n",
       "      <td>B</td>\n",
       "      <td>C</td>\n",
       "      <td>B</td>\n",
       "      <td>15.0</td>\n",
       "      <td>84.0</td>\n",
       "      <td>3.0</td>\n",
       "      <td>B</td>\n",
       "      <td>yes</td>\n",
       "      <td>yes</td>\n",
       "      <td>D</td>\n",
       "      <td>2021-01-07 00:00:00</td>\n",
       "      <td>AD</td>\n",
       "      <td>Death</td>\n",
       "      <td>NaN</td>\n",
       "    </tr>\n",
       "    <tr>\n",
       "      <th>3</th>\n",
       "      <td>621864</td>\n",
       "      <td>Nasra</td>\n",
       "      <td>2020-12-09 00:00:00</td>\n",
       "      <td>no</td>\n",
       "      <td>13/9/2020</td>\n",
       "      <td>13/9/2020</td>\n",
       "      <td>A</td>\n",
       "      <td>B</td>\n",
       "      <td>H</td>\n",
       "      <td>H</td>\n",
       "      <td>C</td>\n",
       "      <td>A</td>\n",
       "      <td>2.0</td>\n",
       "      <td>I</td>\n",
       "      <td>I</td>\n",
       "      <td>NaN</td>\n",
       "      <td>NaN</td>\n",
       "      <td>E</td>\n",
       "      <td>A</td>\n",
       "      <td>A</td>\n",
       "      <td>A</td>\n",
       "      <td>D</td>\n",
       "      <td>D</td>\n",
       "      <td>A</td>\n",
       "      <td>B</td>\n",
       "      <td>B</td>\n",
       "      <td>B</td>\n",
       "      <td>E</td>\n",
       "      <td>A</td>\n",
       "      <td>A</td>\n",
       "      <td>A</td>\n",
       "      <td>2020-12-09 00:00:00</td>\n",
       "      <td>A</td>\n",
       "      <td>A</td>\n",
       "      <td>A</td>\n",
       "      <td>A</td>\n",
       "      <td>B</td>\n",
       "      <td>5</td>\n",
       "      <td>13/9/2020</td>\n",
       "      <td>5</td>\n",
       "      <td>5</td>\n",
       "      <td>NaN</td>\n",
       "      <td>NaN</td>\n",
       "      <td>NaN</td>\n",
       "      <td>NaN</td>\n",
       "      <td>NaN</td>\n",
       "      <td>NaN</td>\n",
       "      <td>NaN</td>\n",
       "      <td>NaN</td>\n",
       "      <td>NaN</td>\n",
       "      <td>NaN</td>\n",
       "      <td>NaN</td>\n",
       "      <td>NaN</td>\n",
       "      <td>no</td>\n",
       "      <td>no</td>\n",
       "      <td>no</td>\n",
       "      <td>NaN</td>\n",
       "      <td>NaN</td>\n",
       "      <td>NaN</td>\n",
       "      <td>no</td>\n",
       "      <td>NaN</td>\n",
       "      <td>NaN</td>\n",
       "      <td>C</td>\n",
       "      <td>H</td>\n",
       "      <td>C</td>\n",
       "      <td>NaN</td>\n",
       "      <td>A</td>\n",
       "      <td>A</td>\n",
       "      <td>A</td>\n",
       "      <td>NaN</td>\n",
       "      <td>8.0</td>\n",
       "      <td>NaN</td>\n",
       "      <td>A</td>\n",
       "      <td>no</td>\n",
       "      <td>no</td>\n",
       "      <td>NaN</td>\n",
       "      <td>Improved</td>\n",
       "      <td>NaN</td>\n",
       "      <td>Improved</td>\n",
       "      <td>NaN</td>\n",
       "    </tr>\n",
       "    <tr>\n",
       "      <th>4</th>\n",
       "      <td>364342</td>\n",
       "      <td>laila</td>\n",
       "      <td>2020-01-09 00:00:00</td>\n",
       "      <td>no</td>\n",
       "      <td>2020-05-09 00:00:00</td>\n",
       "      <td>2020-11-09 00:00:00</td>\n",
       "      <td>B</td>\n",
       "      <td>B</td>\n",
       "      <td>H</td>\n",
       "      <td>A</td>\n",
       "      <td>C</td>\n",
       "      <td>A</td>\n",
       "      <td>4.0</td>\n",
       "      <td>NaN</td>\n",
       "      <td>H</td>\n",
       "      <td>NaN</td>\n",
       "      <td>NaN</td>\n",
       "      <td>E</td>\n",
       "      <td>A</td>\n",
       "      <td>A</td>\n",
       "      <td>A</td>\n",
       "      <td>D</td>\n",
       "      <td>B</td>\n",
       "      <td>B</td>\n",
       "      <td>B</td>\n",
       "      <td>B</td>\n",
       "      <td>B</td>\n",
       "      <td>E</td>\n",
       "      <td>A</td>\n",
       "      <td>A</td>\n",
       "      <td>A</td>\n",
       "      <td>2020-01-09 00:00:00</td>\n",
       "      <td>A</td>\n",
       "      <td>NaN</td>\n",
       "      <td>A</td>\n",
       "      <td>A</td>\n",
       "      <td>B</td>\n",
       "      <td>NaN</td>\n",
       "      <td>NaN</td>\n",
       "      <td>NaN</td>\n",
       "      <td>NaN</td>\n",
       "      <td>NaN</td>\n",
       "      <td>NaN</td>\n",
       "      <td>NaN</td>\n",
       "      <td>NaN</td>\n",
       "      <td>NaN</td>\n",
       "      <td>NaN</td>\n",
       "      <td>NaN</td>\n",
       "      <td>NaN</td>\n",
       "      <td>NaN</td>\n",
       "      <td>NaN</td>\n",
       "      <td>NaN</td>\n",
       "      <td>NaN</td>\n",
       "      <td>no</td>\n",
       "      <td>no</td>\n",
       "      <td>yes</td>\n",
       "      <td>12mg</td>\n",
       "      <td>NaN</td>\n",
       "      <td>NaN</td>\n",
       "      <td>no</td>\n",
       "      <td>NaN</td>\n",
       "      <td>NaN</td>\n",
       "      <td>B</td>\n",
       "      <td>F</td>\n",
       "      <td>A</td>\n",
       "      <td>NaN</td>\n",
       "      <td>B</td>\n",
       "      <td>B</td>\n",
       "      <td>NaN</td>\n",
       "      <td>NaN</td>\n",
       "      <td>98.0</td>\n",
       "      <td>NaN</td>\n",
       "      <td>B</td>\n",
       "      <td>no</td>\n",
       "      <td>no</td>\n",
       "      <td>NaN</td>\n",
       "      <td>Improved</td>\n",
       "      <td>NaN</td>\n",
       "      <td>Improved</td>\n",
       "      <td>NaN</td>\n",
       "    </tr>\n",
       "  </tbody>\n",
       "</table>\n",
       "</div>"
      ],
      "text/plain": [
       "     ptid     name                  DOA lama                  DOD  \\\n",
       "0  662631   shahra  2020-02-09 00:00:00   No            29/9/2020   \n",
       "1  106606  shamsa             26/7/2020  yes            27/7/2020   \n",
       "2  117524     muna  2020-08-06 00:00:00   no  2020-11-06 00:00:00   \n",
       "3  621864    Nasra  2020-12-09 00:00:00   no            13/9/2020   \n",
       "4  364342    laila  2020-01-09 00:00:00   no  2020-05-09 00:00:00   \n",
       "\n",
       "                   DOC age parity Gaatde como syatGA exposure  sympdays  \\\n",
       "0  2020-03-09 00:00:00   A      A      C    A      C        A      10.0   \n",
       "1                  NaN   A      A      H    H      C        A       6.0   \n",
       "2  2020-11-06 00:00:00   B      A      H    H      C        A       4.0   \n",
       "3            13/9/2020   A      B      H    H      C        A       2.0   \n",
       "4  2020-11-09 00:00:00   B      B      H    A      C        A       4.0   \n",
       "\n",
       "  Presenting symptoms Unnamed: 14 Unnamed: 15 Unnamed: 16 sign spo2 RR leuko  \\\n",
       "0                   A           F         NaN         NaN    B    C  B     A   \n",
       "1                   A           D           H         NaN    E    A  A     A   \n",
       "2                   A           D           E           I    A    C  B     B   \n",
       "3                   I           I         NaN         NaN    E    A  A     A   \n",
       "4                 NaN           H         NaN         NaN    E    A  A     A   \n",
       "\n",
       "  crp ldh hb low ly low Nlowpt lowplt ferritin NLR lft rft  \\\n",
       "0   B   A  A      B          B      B        c   A   A   A   \n",
       "1   A   C  A      B          B      B        E   A   A   A   \n",
       "2   C   C  A      B          B      B        B   B   B   A   \n",
       "3   D   D  A      B          B      B        E   A   A   A   \n",
       "4   D   B  B      B          B      B        E   A   A   A   \n",
       "\n",
       "                pcr dt other cs        bd c/s XRAy chest ct pron Azithromycin  \\\n",
       "0  2020-02-09 00:00:00        A  staphcoagneg          B  A    B          NaN   \n",
       "1  2020-12-08 00:00:00        A             A          A  A  NaN          NaN   \n",
       "2            26/7/2020     mdro    Klebsleela          C  A    A          yes   \n",
       "3  2020-12-09 00:00:00        A             A          A  A    B            5   \n",
       "4  2020-01-09 00:00:00        A           NaN          A  A    B          NaN   \n",
       "\n",
       "  Unnamed: 38 cefuroxi metro Toclizumab Unnamed: 42 capbofin       aulfungin  \\\n",
       "0         NaN      NaN   NaN         no         NaN      yes  20/9/2020 stat   \n",
       "1         NaN      NaN   NaN         no         NaN      NaN             NaN   \n",
       "2         NaN      NaN   NaN        yes         NaN      NaN             NaN   \n",
       "3   13/9/2020        5     5        NaN         NaN      NaN             NaN   \n",
       "4         NaN      NaN   NaN        NaN         NaN      NaN             NaN   \n",
       "\n",
       "                  clox vancomycin meropenam  Tazosin Unnamed: 49 Hydroxyc  \\\n",
       "0  2020-09-09 00:00:00        yes        yes     yes   13/9/2020      NaN   \n",
       "1                  NaN        NaN        NaN     NaN         NaN      NaN   \n",
       "2                  NaN        yes        yes     yes         NaN      NaN   \n",
       "3                  NaN        NaN        NaN     NaN         NaN      NaN   \n",
       "4                  NaN        NaN        NaN     NaN         NaN      NaN   \n",
       "\n",
       "  colistin Unnamed: 52 hydroc orpred  dex Unnamed: 56 lmwh befolmw lmwhafter  \\\n",
       "0        9   20/9/2020     no     no  yes         8mg           29       yes   \n",
       "1      NaN         NaN     no     no   no         NaN            1       yes   \n",
       "2        5   25/8/2020    yes     no   no         NaN           19       yes   \n",
       "3      NaN         NaN     no     no   no         NaN          NaN       NaN   \n",
       "4      NaN         NaN     no     no  yes        12mg          NaN       NaN   \n",
       "\n",
       "  Methyl pred  Unnamed: 60 plasma MOD postdel pregoutpregloss Unnamed: 65  \\\n",
       "0          no          NaN    NaN   A       G               A           A   \n",
       "1          no          NaN    NaN   B       H             NaN         NaN   \n",
       "2     yes yes          NaN    NaN   A       H               A         NaN   \n",
       "3          no          NaN    NaN   C       H               C         NaN   \n",
       "4          no          NaN    NaN   B       F               A         NaN   \n",
       "\n",
       "  pretrm  neo.outco  mdt  o2lt  spo2.1  dayofter csstat icucareint days  \\\n",
       "0       B         B    B  15.0    80.0       1.0      A             yes   \n",
       "1       A         C  NaN   NaN    98.0       NaN      A              no   \n",
       "2       B         C    B  15.0    84.0       3.0      B             yes   \n",
       "3       A         A    A   NaN     8.0       NaN      A              no   \n",
       "4       B         B  NaN   NaN    98.0       NaN      B              no   \n",
       "\n",
       "  intubaday clin courseDOD              dtof dth c of dth con of dis comments  \n",
       "0       yes               A             survived      NaN   Improved      NaN  \n",
       "1        no             NaN             survived      NaN   improved      NaN  \n",
       "2       yes               D  2021-01-07 00:00:00       AD      Death      NaN  \n",
       "3        no             NaN             Improved      NaN   Improved      NaN  \n",
       "4        no             NaN             Improved      NaN   Improved      NaN  "
      ]
     },
     "execution_count": 2,
     "metadata": {},
     "output_type": "execute_result"
    }
   ],
   "source": [
    "pd.set_option('display.max_columns', None)\n",
    "df = pd.read_excel('./999covid3final (1).xlsx')\n",
    "df.head()"
   ]
  },
  {
   "cell_type": "code",
   "execution_count": 3,
   "id": "93901abb",
   "metadata": {},
   "outputs": [
    {
     "data": {
      "text/html": [
       "<div>\n",
       "<style scoped>\n",
       "    .dataframe tbody tr th:only-of-type {\n",
       "        vertical-align: middle;\n",
       "    }\n",
       "\n",
       "    .dataframe tbody tr th {\n",
       "        vertical-align: top;\n",
       "    }\n",
       "\n",
       "    .dataframe thead th {\n",
       "        text-align: right;\n",
       "    }\n",
       "</style>\n",
       "<table border=\"1\" class=\"dataframe\">\n",
       "  <thead>\n",
       "    <tr style=\"text-align: right;\">\n",
       "      <th></th>\n",
       "      <th>ptid</th>\n",
       "      <th>sympdays</th>\n",
       "      <th>Unnamed: 60</th>\n",
       "      <th>o2lt</th>\n",
       "      <th>spo2.1</th>\n",
       "      <th>dayofter</th>\n",
       "    </tr>\n",
       "  </thead>\n",
       "  <tbody>\n",
       "    <tr>\n",
       "      <th>count</th>\n",
       "      <td>65.000000</td>\n",
       "      <td>58.000000</td>\n",
       "      <td>0.0</td>\n",
       "      <td>8.000000</td>\n",
       "      <td>59.000000</td>\n",
       "      <td>9.000000</td>\n",
       "    </tr>\n",
       "    <tr>\n",
       "      <th>mean</th>\n",
       "      <td>376314.769231</td>\n",
       "      <td>3.206897</td>\n",
       "      <td>NaN</td>\n",
       "      <td>13.750000</td>\n",
       "      <td>94.576271</td>\n",
       "      <td>2.888889</td>\n",
       "    </tr>\n",
       "    <tr>\n",
       "      <th>std</th>\n",
       "      <td>196331.228212</td>\n",
       "      <td>3.110585</td>\n",
       "      <td>NaN</td>\n",
       "      <td>3.535534</td>\n",
       "      <td>12.669817</td>\n",
       "      <td>1.452966</td>\n",
       "    </tr>\n",
       "    <tr>\n",
       "      <th>min</th>\n",
       "      <td>31534.000000</td>\n",
       "      <td>0.000000</td>\n",
       "      <td>NaN</td>\n",
       "      <td>5.000000</td>\n",
       "      <td>8.000000</td>\n",
       "      <td>1.000000</td>\n",
       "    </tr>\n",
       "    <tr>\n",
       "      <th>25%</th>\n",
       "      <td>201494.000000</td>\n",
       "      <td>1.000000</td>\n",
       "      <td>NaN</td>\n",
       "      <td>15.000000</td>\n",
       "      <td>98.000000</td>\n",
       "      <td>2.000000</td>\n",
       "    </tr>\n",
       "    <tr>\n",
       "      <th>50%</th>\n",
       "      <td>363143.000000</td>\n",
       "      <td>2.000000</td>\n",
       "      <td>NaN</td>\n",
       "      <td>15.000000</td>\n",
       "      <td>98.000000</td>\n",
       "      <td>3.000000</td>\n",
       "    </tr>\n",
       "    <tr>\n",
       "      <th>75%</th>\n",
       "      <td>558028.000000</td>\n",
       "      <td>4.750000</td>\n",
       "      <td>NaN</td>\n",
       "      <td>15.000000</td>\n",
       "      <td>98.000000</td>\n",
       "      <td>3.000000</td>\n",
       "    </tr>\n",
       "    <tr>\n",
       "      <th>max</th>\n",
       "      <td>664058.000000</td>\n",
       "      <td>10.000000</td>\n",
       "      <td>NaN</td>\n",
       "      <td>15.000000</td>\n",
       "      <td>98.000000</td>\n",
       "      <td>5.000000</td>\n",
       "    </tr>\n",
       "  </tbody>\n",
       "</table>\n",
       "</div>"
      ],
      "text/plain": [
       "                ptid   sympdays  Unnamed: 60       o2lt     spo2.1  dayofter\n",
       "count      65.000000  58.000000          0.0   8.000000  59.000000  9.000000\n",
       "mean   376314.769231   3.206897          NaN  13.750000  94.576271  2.888889\n",
       "std    196331.228212   3.110585          NaN   3.535534  12.669817  1.452966\n",
       "min     31534.000000   0.000000          NaN   5.000000   8.000000  1.000000\n",
       "25%    201494.000000   1.000000          NaN  15.000000  98.000000  2.000000\n",
       "50%    363143.000000   2.000000          NaN  15.000000  98.000000  3.000000\n",
       "75%    558028.000000   4.750000          NaN  15.000000  98.000000  3.000000\n",
       "max    664058.000000  10.000000          NaN  15.000000  98.000000  5.000000"
      ]
     },
     "execution_count": 3,
     "metadata": {},
     "output_type": "execute_result"
    }
   ],
   "source": [
    "df.describe()"
   ]
  },
  {
   "cell_type": "code",
   "execution_count": 4,
   "id": "83ec5119",
   "metadata": {},
   "outputs": [],
   "source": [
    "# df.info()"
   ]
  },
  {
   "cell_type": "code",
   "execution_count": 5,
   "id": "e52e4f65",
   "metadata": {},
   "outputs": [
    {
     "data": {
      "text/plain": [
       "Index(['ptid', 'name', 'DOA', 'lama', 'DOD', 'DOC', 'age', 'parity', 'Gaatde',\n",
       "       'como', 'syatGA', 'exposure', 'sympdays', 'Presenting symptoms',\n",
       "       'Unnamed: 14', 'Unnamed: 15', 'Unnamed: 16', 'sign', 'spo2', 'RR',\n",
       "       'leuko', 'crp', 'ldh', 'hb', 'low ly', 'low Nlowpt', 'lowplt',\n",
       "       'ferritin', 'NLR', 'lft', 'rft', 'pcr dt', 'other cs', 'bd c/s',\n",
       "       'XRAy chest', 'ct', 'pron', 'Azithromycin', 'Unnamed: 38', 'cefuroxi',\n",
       "       'metro', 'Toclizumab', 'Unnamed: 42', 'capbofin', 'aulfungin', 'clox',\n",
       "       'vancomycin', 'meropenam ', 'Tazosin', 'Unnamed: 49', 'Hydroxyc',\n",
       "       'colistin', 'Unnamed: 52', 'hydroc', 'orpred', 'dex', 'Unnamed: 56',\n",
       "       'lmwh befolmw', 'lmwhafter', 'Methyl pred', 'Unnamed: 60', 'plasma',\n",
       "       'MOD', 'postdel', 'pregoutpregloss', 'Unnamed: 65', 'pretrm ',\n",
       "       'neo.outco', 'mdt', 'o2lt', 'spo2.1', 'dayofter', 'csstat',\n",
       "       'icucareint days', 'intubaday', 'clin courseDOD ', 'dtof dth',\n",
       "       'c of dth', 'con of dis', 'comments'],\n",
       "      dtype='object')"
      ]
     },
     "execution_count": 5,
     "metadata": {},
     "output_type": "execute_result"
    }
   ],
   "source": [
    "df.columns"
   ]
  },
  {
   "cell_type": "code",
   "execution_count": 6,
   "id": "8d7173d8",
   "metadata": {},
   "outputs": [
    {
     "data": {
      "text/plain": [
       "ptid                0.000000\n",
       "name                0.000000\n",
       "DOA                35.384615\n",
       "lama               10.769231\n",
       "DOD                47.692308\n",
       "                     ...    \n",
       "clin courseDOD     46.153846\n",
       "dtof dth            9.230769\n",
       "c of dth           92.307692\n",
       "con of dis          0.000000\n",
       "comments           96.923077\n",
       "Length: 80, dtype: float64"
      ]
     },
     "execution_count": 6,
     "metadata": {},
     "output_type": "execute_result"
    }
   ],
   "source": [
    "df.isna().mean() * 100"
   ]
  },
  {
   "cell_type": "code",
   "execution_count": 7,
   "id": "62eb3e73",
   "metadata": {},
   "outputs": [
    {
     "data": {
      "text/plain": [
       "<AxesSubplot:>"
      ]
     },
     "execution_count": 7,
     "metadata": {},
     "output_type": "execute_result"
    },
    {
     "data": {
      "image/png": "[encoded data removed]",
      "text/plain": [
       "<Figure size 936x576 with 2 Axes>"
      ]
     },
     "metadata": {
      "needs_background": "light"
     },
     "output_type": "display_data"
    }
   ],
   "source": [
    "plt.figure(figsize = (13,8))\n",
    "sns.heatmap(df.isnull())"
   ]
  },
  {
   "cell_type": "code",
   "execution_count": 8,
   "id": "ca0f607e",
   "metadata": {},
   "outputs": [],
   "source": [
    "# df.tail(10)"
   ]
  },
  {
   "cell_type": "code",
   "execution_count": 9,
   "id": "a3f31fec",
   "metadata": {},
   "outputs": [],
   "source": [
    "# Dropping those patients that have Nan values\n",
    "df.drop(index = range(59,65) ,inplace = True)"
   ]
  },
  {
   "cell_type": "code",
   "execution_count": 10,
   "id": "d48f0dfb",
   "metadata": {},
   "outputs": [],
   "source": [
    "# Steroids (pink)\n",
    "steroids = ['hydroc', 'orpred', 'dex', 'Methyl pred']\n",
    "\n",
    "#Antibioitics (blue)\n",
    "antibiotics = ['Azithromycin','cefuroxi','metro','clox','vancomycin', 'meropenam ', 'Tazosin','colistin']"
   ]
  },
  {
   "cell_type": "code",
   "execution_count": 11,
   "id": "88a0114a",
   "metadata": {},
   "outputs": [],
   "source": [
    "# Outcome of the patient\n",
    "df[\"con of dis\"].replace([\"improved\"], \"Improved\" , inplace = True)\n",
    "df[\"con of dis\"].replace([\"Died\",\"DEATh\"],\"Death\" , inplace = True)"
   ]
  },
  {
   "cell_type": "markdown",
   "id": "2f7d62b7",
   "metadata": {},
   "source": [
    "## Steroids Analysis"
   ]
  },
  {
   "cell_type": "code",
   "execution_count": 12,
   "id": "c0b0747f",
   "metadata": {},
   "outputs": [
    {
     "data": {
      "text/html": [
       "<div>\n",
       "<style scoped>\n",
       "    .dataframe tbody tr th:only-of-type {\n",
       "        vertical-align: middle;\n",
       "    }\n",
       "\n",
       "    .dataframe tbody tr th {\n",
       "        vertical-align: top;\n",
       "    }\n",
       "\n",
       "    .dataframe thead th {\n",
       "        text-align: right;\n",
       "    }\n",
       "</style>\n",
       "<table border=\"1\" class=\"dataframe\">\n",
       "  <thead>\n",
       "    <tr style=\"text-align: right;\">\n",
       "      <th></th>\n",
       "      <th>hydroc</th>\n",
       "      <th>orpred</th>\n",
       "      <th>dex</th>\n",
       "      <th>Methyl pred</th>\n",
       "    </tr>\n",
       "  </thead>\n",
       "  <tbody>\n",
       "    <tr>\n",
       "      <th>0</th>\n",
       "      <td>no</td>\n",
       "      <td>no</td>\n",
       "      <td>yes</td>\n",
       "      <td>no</td>\n",
       "    </tr>\n",
       "    <tr>\n",
       "      <th>1</th>\n",
       "      <td>no</td>\n",
       "      <td>no</td>\n",
       "      <td>no</td>\n",
       "      <td>no</td>\n",
       "    </tr>\n",
       "    <tr>\n",
       "      <th>2</th>\n",
       "      <td>yes</td>\n",
       "      <td>no</td>\n",
       "      <td>no</td>\n",
       "      <td>yes</td>\n",
       "    </tr>\n",
       "    <tr>\n",
       "      <th>3</th>\n",
       "      <td>no</td>\n",
       "      <td>no</td>\n",
       "      <td>no</td>\n",
       "      <td>no</td>\n",
       "    </tr>\n",
       "    <tr>\n",
       "      <th>4</th>\n",
       "      <td>no</td>\n",
       "      <td>no</td>\n",
       "      <td>yes</td>\n",
       "      <td>no</td>\n",
       "    </tr>\n",
       "    <tr>\n",
       "      <th>5</th>\n",
       "      <td>no</td>\n",
       "      <td>no</td>\n",
       "      <td>no</td>\n",
       "      <td>no</td>\n",
       "    </tr>\n",
       "    <tr>\n",
       "      <th>6</th>\n",
       "      <td>no</td>\n",
       "      <td>no</td>\n",
       "      <td>no</td>\n",
       "      <td>no</td>\n",
       "    </tr>\n",
       "    <tr>\n",
       "      <th>7</th>\n",
       "      <td>no</td>\n",
       "      <td>yes</td>\n",
       "      <td>no</td>\n",
       "      <td>no</td>\n",
       "    </tr>\n",
       "    <tr>\n",
       "      <th>8</th>\n",
       "      <td>no</td>\n",
       "      <td>yes</td>\n",
       "      <td>no</td>\n",
       "      <td>no</td>\n",
       "    </tr>\n",
       "    <tr>\n",
       "      <th>9</th>\n",
       "      <td>no</td>\n",
       "      <td>no</td>\n",
       "      <td>no</td>\n",
       "      <td>no</td>\n",
       "    </tr>\n",
       "    <tr>\n",
       "      <th>10</th>\n",
       "      <td>no</td>\n",
       "      <td>no</td>\n",
       "      <td>no</td>\n",
       "      <td>no</td>\n",
       "    </tr>\n",
       "    <tr>\n",
       "      <th>11</th>\n",
       "      <td>no</td>\n",
       "      <td>no</td>\n",
       "      <td>no</td>\n",
       "      <td>no</td>\n",
       "    </tr>\n",
       "    <tr>\n",
       "      <th>12</th>\n",
       "      <td>no</td>\n",
       "      <td>no</td>\n",
       "      <td>no</td>\n",
       "      <td>no</td>\n",
       "    </tr>\n",
       "    <tr>\n",
       "      <th>13</th>\n",
       "      <td>yes</td>\n",
       "      <td>no</td>\n",
       "      <td>no</td>\n",
       "      <td>no</td>\n",
       "    </tr>\n",
       "    <tr>\n",
       "      <th>14</th>\n",
       "      <td>no</td>\n",
       "      <td>no</td>\n",
       "      <td>no</td>\n",
       "      <td>no</td>\n",
       "    </tr>\n",
       "    <tr>\n",
       "      <th>15</th>\n",
       "      <td>no</td>\n",
       "      <td>no</td>\n",
       "      <td>no</td>\n",
       "      <td>no</td>\n",
       "    </tr>\n",
       "    <tr>\n",
       "      <th>16</th>\n",
       "      <td>no</td>\n",
       "      <td>no</td>\n",
       "      <td>no</td>\n",
       "      <td>no</td>\n",
       "    </tr>\n",
       "    <tr>\n",
       "      <th>17</th>\n",
       "      <td>no</td>\n",
       "      <td>no</td>\n",
       "      <td>no</td>\n",
       "      <td>no</td>\n",
       "    </tr>\n",
       "    <tr>\n",
       "      <th>18</th>\n",
       "      <td>no</td>\n",
       "      <td>no</td>\n",
       "      <td>no</td>\n",
       "      <td>no</td>\n",
       "    </tr>\n",
       "    <tr>\n",
       "      <th>19</th>\n",
       "      <td>no</td>\n",
       "      <td>no</td>\n",
       "      <td>no</td>\n",
       "      <td>no</td>\n",
       "    </tr>\n",
       "    <tr>\n",
       "      <th>20</th>\n",
       "      <td>no</td>\n",
       "      <td>no</td>\n",
       "      <td>no</td>\n",
       "      <td>no</td>\n",
       "    </tr>\n",
       "    <tr>\n",
       "      <th>21</th>\n",
       "      <td>no</td>\n",
       "      <td>no</td>\n",
       "      <td>no</td>\n",
       "      <td>no</td>\n",
       "    </tr>\n",
       "    <tr>\n",
       "      <th>22</th>\n",
       "      <td>no</td>\n",
       "      <td>no</td>\n",
       "      <td>no</td>\n",
       "      <td>no</td>\n",
       "    </tr>\n",
       "    <tr>\n",
       "      <th>23</th>\n",
       "      <td>no</td>\n",
       "      <td>no</td>\n",
       "      <td>no</td>\n",
       "      <td>no</td>\n",
       "    </tr>\n",
       "    <tr>\n",
       "      <th>24</th>\n",
       "      <td>no</td>\n",
       "      <td>no</td>\n",
       "      <td>no</td>\n",
       "      <td>no</td>\n",
       "    </tr>\n",
       "    <tr>\n",
       "      <th>25</th>\n",
       "      <td>no</td>\n",
       "      <td>no</td>\n",
       "      <td>no</td>\n",
       "      <td>no</td>\n",
       "    </tr>\n",
       "    <tr>\n",
       "      <th>26</th>\n",
       "      <td>no</td>\n",
       "      <td>no</td>\n",
       "      <td>no</td>\n",
       "      <td>no</td>\n",
       "    </tr>\n",
       "    <tr>\n",
       "      <th>27</th>\n",
       "      <td>no</td>\n",
       "      <td>no</td>\n",
       "      <td>no</td>\n",
       "      <td>no</td>\n",
       "    </tr>\n",
       "    <tr>\n",
       "      <th>28</th>\n",
       "      <td>no</td>\n",
       "      <td>no</td>\n",
       "      <td>no</td>\n",
       "      <td>no</td>\n",
       "    </tr>\n",
       "    <tr>\n",
       "      <th>29</th>\n",
       "      <td>no</td>\n",
       "      <td>no</td>\n",
       "      <td>no</td>\n",
       "      <td>no</td>\n",
       "    </tr>\n",
       "    <tr>\n",
       "      <th>30</th>\n",
       "      <td>no</td>\n",
       "      <td>no</td>\n",
       "      <td>no</td>\n",
       "      <td>no</td>\n",
       "    </tr>\n",
       "    <tr>\n",
       "      <th>31</th>\n",
       "      <td>no</td>\n",
       "      <td>no</td>\n",
       "      <td>yes</td>\n",
       "      <td>yes</td>\n",
       "    </tr>\n",
       "    <tr>\n",
       "      <th>32</th>\n",
       "      <td>yes</td>\n",
       "      <td>no</td>\n",
       "      <td>no</td>\n",
       "      <td>no</td>\n",
       "    </tr>\n",
       "    <tr>\n",
       "      <th>33</th>\n",
       "      <td>no</td>\n",
       "      <td>no</td>\n",
       "      <td>no</td>\n",
       "      <td>no</td>\n",
       "    </tr>\n",
       "    <tr>\n",
       "      <th>34</th>\n",
       "      <td>no</td>\n",
       "      <td>no</td>\n",
       "      <td>yes</td>\n",
       "      <td>no</td>\n",
       "    </tr>\n",
       "    <tr>\n",
       "      <th>35</th>\n",
       "      <td>no</td>\n",
       "      <td>no</td>\n",
       "      <td>yes</td>\n",
       "      <td>no</td>\n",
       "    </tr>\n",
       "    <tr>\n",
       "      <th>36</th>\n",
       "      <td>no</td>\n",
       "      <td>no</td>\n",
       "      <td>no</td>\n",
       "      <td>no</td>\n",
       "    </tr>\n",
       "    <tr>\n",
       "      <th>37</th>\n",
       "      <td>no</td>\n",
       "      <td>no</td>\n",
       "      <td>no</td>\n",
       "      <td>no</td>\n",
       "    </tr>\n",
       "    <tr>\n",
       "      <th>38</th>\n",
       "      <td>no</td>\n",
       "      <td>no</td>\n",
       "      <td>no</td>\n",
       "      <td>no</td>\n",
       "    </tr>\n",
       "    <tr>\n",
       "      <th>39</th>\n",
       "      <td>no</td>\n",
       "      <td>no</td>\n",
       "      <td>no</td>\n",
       "      <td>no</td>\n",
       "    </tr>\n",
       "    <tr>\n",
       "      <th>40</th>\n",
       "      <td>no</td>\n",
       "      <td>no</td>\n",
       "      <td>yes</td>\n",
       "      <td>no</td>\n",
       "    </tr>\n",
       "    <tr>\n",
       "      <th>41</th>\n",
       "      <td>no</td>\n",
       "      <td>no</td>\n",
       "      <td>no</td>\n",
       "      <td>no</td>\n",
       "    </tr>\n",
       "    <tr>\n",
       "      <th>42</th>\n",
       "      <td>no</td>\n",
       "      <td>no</td>\n",
       "      <td>yes</td>\n",
       "      <td>no</td>\n",
       "    </tr>\n",
       "    <tr>\n",
       "      <th>43</th>\n",
       "      <td>no</td>\n",
       "      <td>no</td>\n",
       "      <td>no</td>\n",
       "      <td>no</td>\n",
       "    </tr>\n",
       "    <tr>\n",
       "      <th>44</th>\n",
       "      <td>no</td>\n",
       "      <td>no</td>\n",
       "      <td>no</td>\n",
       "      <td>no</td>\n",
       "    </tr>\n",
       "    <tr>\n",
       "      <th>45</th>\n",
       "      <td>no</td>\n",
       "      <td>yes</td>\n",
       "      <td>yes</td>\n",
       "      <td>no</td>\n",
       "    </tr>\n",
       "    <tr>\n",
       "      <th>46</th>\n",
       "      <td>no</td>\n",
       "      <td>no</td>\n",
       "      <td>no</td>\n",
       "      <td>no</td>\n",
       "    </tr>\n",
       "    <tr>\n",
       "      <th>47</th>\n",
       "      <td>no</td>\n",
       "      <td>no</td>\n",
       "      <td>yes</td>\n",
       "      <td>no</td>\n",
       "    </tr>\n",
       "    <tr>\n",
       "      <th>48</th>\n",
       "      <td>no</td>\n",
       "      <td>no</td>\n",
       "      <td>no</td>\n",
       "      <td>no</td>\n",
       "    </tr>\n",
       "    <tr>\n",
       "      <th>49</th>\n",
       "      <td>no</td>\n",
       "      <td>no</td>\n",
       "      <td>no</td>\n",
       "      <td>no</td>\n",
       "    </tr>\n",
       "    <tr>\n",
       "      <th>50</th>\n",
       "      <td>no</td>\n",
       "      <td>no</td>\n",
       "      <td>no</td>\n",
       "      <td>no</td>\n",
       "    </tr>\n",
       "    <tr>\n",
       "      <th>51</th>\n",
       "      <td>no</td>\n",
       "      <td>no</td>\n",
       "      <td>no</td>\n",
       "      <td>no</td>\n",
       "    </tr>\n",
       "    <tr>\n",
       "      <th>52</th>\n",
       "      <td>no</td>\n",
       "      <td>no</td>\n",
       "      <td>no</td>\n",
       "      <td>no</td>\n",
       "    </tr>\n",
       "    <tr>\n",
       "      <th>53</th>\n",
       "      <td>no</td>\n",
       "      <td>no</td>\n",
       "      <td>no</td>\n",
       "      <td>no</td>\n",
       "    </tr>\n",
       "    <tr>\n",
       "      <th>54</th>\n",
       "      <td>no</td>\n",
       "      <td>no</td>\n",
       "      <td>no</td>\n",
       "      <td>no</td>\n",
       "    </tr>\n",
       "    <tr>\n",
       "      <th>55</th>\n",
       "      <td>no</td>\n",
       "      <td>no</td>\n",
       "      <td>yes</td>\n",
       "      <td>no</td>\n",
       "    </tr>\n",
       "    <tr>\n",
       "      <th>56</th>\n",
       "      <td>no</td>\n",
       "      <td>no</td>\n",
       "      <td>no</td>\n",
       "      <td>no</td>\n",
       "    </tr>\n",
       "    <tr>\n",
       "      <th>57</th>\n",
       "      <td>no</td>\n",
       "      <td>no</td>\n",
       "      <td>yes</td>\n",
       "      <td>no</td>\n",
       "    </tr>\n",
       "    <tr>\n",
       "      <th>58</th>\n",
       "      <td>no</td>\n",
       "      <td>no</td>\n",
       "      <td>yes</td>\n",
       "      <td>no</td>\n",
       "    </tr>\n",
       "  </tbody>\n",
       "</table>\n",
       "</div>"
      ],
      "text/plain": [
       "   hydroc orpred  dex Methyl pred\n",
       "0      no     no  yes          no\n",
       "1      no     no   no          no\n",
       "2     yes     no   no         yes\n",
       "3      no     no   no          no\n",
       "4      no     no  yes          no\n",
       "5      no     no   no          no\n",
       "6      no     no   no          no\n",
       "7      no    yes   no          no\n",
       "8      no    yes   no          no\n",
       "9      no     no   no          no\n",
       "10     no     no   no          no\n",
       "11     no     no   no          no\n",
       "12     no     no   no          no\n",
       "13    yes     no   no          no\n",
       "14     no     no   no          no\n",
       "15     no     no   no          no\n",
       "16     no     no   no          no\n",
       "17     no     no   no          no\n",
       "18     no     no   no          no\n",
       "19     no     no   no          no\n",
       "20     no     no   no          no\n",
       "21     no     no   no          no\n",
       "22     no     no   no          no\n",
       "23     no     no   no          no\n",
       "24     no     no   no          no\n",
       "25     no     no   no          no\n",
       "26     no     no   no          no\n",
       "27     no     no   no          no\n",
       "28     no     no   no          no\n",
       "29     no     no   no          no\n",
       "30     no     no   no          no\n",
       "31     no     no  yes         yes\n",
       "32    yes     no   no          no\n",
       "33     no     no   no          no\n",
       "34     no     no  yes          no\n",
       "35     no     no  yes          no\n",
       "36     no     no   no          no\n",
       "37     no     no   no          no\n",
       "38     no     no   no          no\n",
       "39     no     no   no          no\n",
       "40     no     no  yes          no\n",
       "41     no     no   no          no\n",
       "42     no     no  yes          no\n",
       "43     no     no   no          no\n",
       "44     no     no   no          no\n",
       "45     no    yes  yes          no\n",
       "46     no     no   no          no\n",
       "47     no     no  yes          no\n",
       "48     no     no   no          no\n",
       "49     no     no   no          no\n",
       "50     no     no   no          no\n",
       "51     no     no   no          no\n",
       "52     no     no   no          no\n",
       "53     no     no   no          no\n",
       "54     no     no   no          no\n",
       "55     no     no  yes          no\n",
       "56     no     no   no          no\n",
       "57     no     no  yes          no\n",
       "58     no     no  yes          no"
      ]
     },
     "execution_count": 12,
     "metadata": {},
     "output_type": "execute_result"
    }
   ],
   "source": [
    "df[\"Methyl pred\"].replace(\"yes yes\",\"yes\" , inplace = True)\n",
    "df[steroids]"
   ]
  },
  {
   "cell_type": "code",
   "execution_count": 13,
   "id": "e8c24407",
   "metadata": {},
   "outputs": [
    {
     "name": "stderr",
     "output_type": "stream",
     "text": [
      "C:\\ProgramData\\Anaconda3\\lib\\site-packages\\seaborn\\_decorators.py:36: FutureWarning: Pass the following variable as a keyword arg: x. From version 0.12, the only valid positional argument will be `data`, and passing other arguments without an explicit keyword will result in an error or misinterpretation.\n",
      "  warnings.warn(\n"
     ]
    },
    {
     "data": {
      "text/plain": [
       "<AxesSubplot:xlabel='hydroc', ylabel='count'>"
      ]
     },
     "execution_count": 13,
     "metadata": {},
     "output_type": "execute_result"
    },
    {
     "data": {
      "image/png": "[encoded data removed]",
      "text/plain": [
       "<Figure size 432x432 with 1 Axes>"
      ]
     },
     "metadata": {},
     "output_type": "display_data"
    }
   ],
   "source": [
    "sns.set_style(\"darkgrid\")\n",
    "plt.figure(figsize = (6,6))\n",
    "sns.countplot(df[\"hydroc\"] , hue=df[\"con of dis\"])"
   ]
  },
  {
   "cell_type": "code",
   "execution_count": 14,
   "id": "bf471eee",
   "metadata": {},
   "outputs": [
    {
     "name": "stderr",
     "output_type": "stream",
     "text": [
      "C:\\ProgramData\\Anaconda3\\lib\\site-packages\\seaborn\\_decorators.py:36: FutureWarning: Pass the following variable as a keyword arg: x. From version 0.12, the only valid positional argument will be `data`, and passing other arguments without an explicit keyword will result in an error or misinterpretation.\n",
      "  warnings.warn(\n"
     ]
    },
    {
     "data": {
      "text/plain": [
       "<AxesSubplot:xlabel='orpred', ylabel='count'>"
      ]
     },
     "execution_count": 14,
     "metadata": {},
     "output_type": "execute_result"
    },
    {
     "data": {
      "image/png": "[encoded data removed]",
      "text/plain": [
       "<Figure size 432x432 with 1 Axes>"
      ]
     },
     "metadata": {},
     "output_type": "display_data"
    }
   ],
   "source": [
    "sns.set_style(\"darkgrid\")\n",
    "plt.figure(figsize = (6,6))\n",
    "sns.countplot(df[\"orpred\"] , hue=df[\"con of dis\"])"
   ]
  },
  {
   "cell_type": "code",
   "execution_count": 15,
   "id": "ba941d90",
   "metadata": {},
   "outputs": [
    {
     "name": "stderr",
     "output_type": "stream",
     "text": [
      "C:\\ProgramData\\Anaconda3\\lib\\site-packages\\seaborn\\_decorators.py:36: FutureWarning: Pass the following variable as a keyword arg: x. From version 0.12, the only valid positional argument will be `data`, and passing other arguments without an explicit keyword will result in an error or misinterpretation.\n",
      "  warnings.warn(\n"
     ]
    },
    {
     "data": {
      "text/plain": [
       "<AxesSubplot:xlabel='dex', ylabel='count'>"
      ]
     },
     "execution_count": 15,
     "metadata": {},
     "output_type": "execute_result"
    },
    {
     "data": {
      "image/png": "[encoded data removed]",
      "text/plain": [
       "<Figure size 432x432 with 1 Axes>"
      ]
     },
     "metadata": {},
     "output_type": "display_data"
    }
   ],
   "source": [
    "sns.set_style(\"darkgrid\")\n",
    "plt.figure(figsize = (6,6))\n",
    "sns.countplot(df[\"dex\"] , hue=df[\"con of dis\"])"
   ]
  },
  {
   "cell_type": "code",
   "execution_count": 16,
   "id": "6366dd18",
   "metadata": {},
   "outputs": [
    {
     "name": "stderr",
     "output_type": "stream",
     "text": [
      "C:\\ProgramData\\Anaconda3\\lib\\site-packages\\seaborn\\_decorators.py:36: FutureWarning: Pass the following variable as a keyword arg: x. From version 0.12, the only valid positional argument will be `data`, and passing other arguments without an explicit keyword will result in an error or misinterpretation.\n",
      "  warnings.warn(\n"
     ]
    },
    {
     "data": {
      "text/plain": [
       "<AxesSubplot:xlabel='Methyl pred', ylabel='count'>"
      ]
     },
     "execution_count": 16,
     "metadata": {},
     "output_type": "execute_result"
    },
    {
     "data": {
      "image/png": "[encoded data removed]",
      "text/plain": [
       "<Figure size 432x432 with 1 Axes>"
      ]
     },
     "metadata": {},
     "output_type": "display_data"
    }
   ],
   "source": [
    "sns.set_style(\"darkgrid\")\n",
    "plt.figure(figsize = (6,6))\n",
    "sns.countplot(df[\"Methyl pred\"] , hue=df[\"con of dis\"])"
   ]
  },
  {
   "cell_type": "markdown",
   "id": "ff21426d",
   "metadata": {},
   "source": [
    "## ICU"
   ]
  },
  {
   "cell_type": "code",
   "execution_count": 17,
   "id": "d9439103",
   "metadata": {},
   "outputs": [
    {
     "data": {
      "text/plain": [
       "Index(['ptid', 'name', 'DOA', 'lama', 'DOD', 'DOC', 'age', 'parity', 'Gaatde',\n",
       "       'como', 'syatGA', 'exposure', 'sympdays', 'Presenting symptoms',\n",
       "       'Unnamed: 14', 'Unnamed: 15', 'Unnamed: 16', 'sign', 'spo2', 'RR',\n",
       "       'leuko', 'crp', 'ldh', 'hb', 'low ly', 'low Nlowpt', 'lowplt',\n",
       "       'ferritin', 'NLR', 'lft', 'rft', 'pcr dt', 'other cs', 'bd c/s',\n",
       "       'XRAy chest', 'ct', 'pron', 'Azithromycin', 'Unnamed: 38', 'cefuroxi',\n",
       "       'metro', 'Toclizumab', 'Unnamed: 42', 'capbofin', 'aulfungin', 'clox',\n",
       "       'vancomycin', 'meropenam ', 'Tazosin', 'Unnamed: 49', 'Hydroxyc',\n",
       "       'colistin', 'Unnamed: 52', 'hydroc', 'orpred', 'dex', 'Unnamed: 56',\n",
       "       'lmwh befolmw', 'lmwhafter', 'Methyl pred', 'Unnamed: 60', 'plasma',\n",
       "       'MOD', 'postdel', 'pregoutpregloss', 'Unnamed: 65', 'pretrm ',\n",
       "       'neo.outco', 'mdt', 'o2lt', 'spo2.1', 'dayofter', 'csstat',\n",
       "       'icucareint days', 'intubaday', 'clin courseDOD ', 'dtof dth',\n",
       "       'c of dth', 'con of dis', 'comments'],\n",
       "      dtype='object')"
      ]
     },
     "execution_count": 17,
     "metadata": {},
     "output_type": "execute_result"
    }
   ],
   "source": [
    "df.columns"
   ]
  },
  {
   "cell_type": "code",
   "execution_count": 18,
   "id": "ae6c9b33",
   "metadata": {},
   "outputs": [
    {
     "name": "stderr",
     "output_type": "stream",
     "text": [
      "C:\\ProgramData\\Anaconda3\\lib\\site-packages\\seaborn\\_decorators.py:36: FutureWarning: Pass the following variable as a keyword arg: x. From version 0.12, the only valid positional argument will be `data`, and passing other arguments without an explicit keyword will result in an error or misinterpretation.\n",
      "  warnings.warn(\n"
     ]
    },
    {
     "data": {
      "text/plain": [
       "Text(0.5, 0, 'ICU')"
      ]
     },
     "execution_count": 18,
     "metadata": {},
     "output_type": "execute_result"
    },
    {
     "data": {
      "image/png": "[encoded data removed]",
      "text/plain": [
       "<Figure size 432x432 with 1 Axes>"
      ]
     },
     "metadata": {},
     "output_type": "display_data"
    }
   ],
   "source": [
    "plt.figure(figsize = (6,6))\n",
    "sns.countplot(df['icucareint days'] , hue = df[\"con of dis\"])\n",
    "plt.xlabel(\"ICU\")\n"
   ]
  },
  {
   "cell_type": "code",
   "execution_count": 19,
   "id": "c860987d",
   "metadata": {},
   "outputs": [
    {
     "data": {
      "text/html": [
       "<div>\n",
       "<style scoped>\n",
       "    .dataframe tbody tr th:only-of-type {\n",
       "        vertical-align: middle;\n",
       "    }\n",
       "\n",
       "    .dataframe tbody tr th {\n",
       "        vertical-align: top;\n",
       "    }\n",
       "\n",
       "    .dataframe thead th {\n",
       "        text-align: right;\n",
       "    }\n",
       "</style>\n",
       "<table border=\"1\" class=\"dataframe\">\n",
       "  <thead>\n",
       "    <tr style=\"text-align: right;\">\n",
       "      <th></th>\n",
       "      <th>ptid</th>\n",
       "      <th>name</th>\n",
       "      <th>DOA</th>\n",
       "      <th>lama</th>\n",
       "      <th>DOD</th>\n",
       "      <th>DOC</th>\n",
       "      <th>age</th>\n",
       "      <th>parity</th>\n",
       "      <th>Gaatde</th>\n",
       "      <th>como</th>\n",
       "      <th>syatGA</th>\n",
       "      <th>exposure</th>\n",
       "      <th>sympdays</th>\n",
       "      <th>Presenting symptoms</th>\n",
       "      <th>Unnamed: 14</th>\n",
       "      <th>Unnamed: 15</th>\n",
       "      <th>Unnamed: 16</th>\n",
       "      <th>sign</th>\n",
       "      <th>spo2</th>\n",
       "      <th>RR</th>\n",
       "      <th>leuko</th>\n",
       "      <th>crp</th>\n",
       "      <th>ldh</th>\n",
       "      <th>hb</th>\n",
       "      <th>low ly</th>\n",
       "      <th>low Nlowpt</th>\n",
       "      <th>lowplt</th>\n",
       "      <th>ferritin</th>\n",
       "      <th>NLR</th>\n",
       "      <th>lft</th>\n",
       "      <th>rft</th>\n",
       "      <th>pcr dt</th>\n",
       "      <th>other cs</th>\n",
       "      <th>bd c/s</th>\n",
       "      <th>XRAy chest</th>\n",
       "      <th>ct</th>\n",
       "      <th>pron</th>\n",
       "      <th>Azithromycin</th>\n",
       "      <th>Unnamed: 38</th>\n",
       "      <th>cefuroxi</th>\n",
       "      <th>metro</th>\n",
       "      <th>Toclizumab</th>\n",
       "      <th>Unnamed: 42</th>\n",
       "      <th>capbofin</th>\n",
       "      <th>aulfungin</th>\n",
       "      <th>clox</th>\n",
       "      <th>vancomycin</th>\n",
       "      <th>meropenam</th>\n",
       "      <th>Tazosin</th>\n",
       "      <th>Unnamed: 49</th>\n",
       "      <th>Hydroxyc</th>\n",
       "      <th>colistin</th>\n",
       "      <th>Unnamed: 52</th>\n",
       "      <th>hydroc</th>\n",
       "      <th>orpred</th>\n",
       "      <th>dex</th>\n",
       "      <th>Unnamed: 56</th>\n",
       "      <th>lmwh befolmw</th>\n",
       "      <th>lmwhafter</th>\n",
       "      <th>Methyl pred</th>\n",
       "      <th>Unnamed: 60</th>\n",
       "      <th>plasma</th>\n",
       "      <th>MOD</th>\n",
       "      <th>postdel</th>\n",
       "      <th>pregoutpregloss</th>\n",
       "      <th>Unnamed: 65</th>\n",
       "      <th>pretrm</th>\n",
       "      <th>neo.outco</th>\n",
       "      <th>mdt</th>\n",
       "      <th>o2lt</th>\n",
       "      <th>spo2.1</th>\n",
       "      <th>dayofter</th>\n",
       "      <th>csstat</th>\n",
       "      <th>icucareint days</th>\n",
       "      <th>intubaday</th>\n",
       "      <th>clin courseDOD</th>\n",
       "      <th>dtof dth</th>\n",
       "      <th>c of dth</th>\n",
       "      <th>con of dis</th>\n",
       "      <th>comments</th>\n",
       "    </tr>\n",
       "  </thead>\n",
       "  <tbody>\n",
       "    <tr>\n",
       "      <th>0</th>\n",
       "      <td>662631</td>\n",
       "      <td>shahra</td>\n",
       "      <td>2020-02-09 00:00:00</td>\n",
       "      <td>No</td>\n",
       "      <td>29/9/2020</td>\n",
       "      <td>2020-03-09 00:00:00</td>\n",
       "      <td>A</td>\n",
       "      <td>A</td>\n",
       "      <td>C</td>\n",
       "      <td>A</td>\n",
       "      <td>C</td>\n",
       "      <td>A</td>\n",
       "      <td>10.0</td>\n",
       "      <td>A</td>\n",
       "      <td>F</td>\n",
       "      <td>NaN</td>\n",
       "      <td>NaN</td>\n",
       "      <td>B</td>\n",
       "      <td>C</td>\n",
       "      <td>B</td>\n",
       "      <td>A</td>\n",
       "      <td>B</td>\n",
       "      <td>A</td>\n",
       "      <td>A</td>\n",
       "      <td>B</td>\n",
       "      <td>B</td>\n",
       "      <td>B</td>\n",
       "      <td>c</td>\n",
       "      <td>A</td>\n",
       "      <td>A</td>\n",
       "      <td>A</td>\n",
       "      <td>2020-02-09 00:00:00</td>\n",
       "      <td>A</td>\n",
       "      <td>staphcoagneg</td>\n",
       "      <td>B</td>\n",
       "      <td>A</td>\n",
       "      <td>B</td>\n",
       "      <td>NaN</td>\n",
       "      <td>NaN</td>\n",
       "      <td>NaN</td>\n",
       "      <td>NaN</td>\n",
       "      <td>no</td>\n",
       "      <td>NaN</td>\n",
       "      <td>yes</td>\n",
       "      <td>20/9/2020 stat</td>\n",
       "      <td>2020-09-09 00:00:00</td>\n",
       "      <td>yes</td>\n",
       "      <td>yes</td>\n",
       "      <td>yes</td>\n",
       "      <td>13/9/2020</td>\n",
       "      <td>NaN</td>\n",
       "      <td>9</td>\n",
       "      <td>20/9/2020</td>\n",
       "      <td>no</td>\n",
       "      <td>no</td>\n",
       "      <td>yes</td>\n",
       "      <td>8mg</td>\n",
       "      <td>29</td>\n",
       "      <td>yes</td>\n",
       "      <td>no</td>\n",
       "      <td>NaN</td>\n",
       "      <td>NaN</td>\n",
       "      <td>A</td>\n",
       "      <td>G</td>\n",
       "      <td>A</td>\n",
       "      <td>A</td>\n",
       "      <td>B</td>\n",
       "      <td>B</td>\n",
       "      <td>B</td>\n",
       "      <td>15.0</td>\n",
       "      <td>80.0</td>\n",
       "      <td>1.0</td>\n",
       "      <td>A</td>\n",
       "      <td>yes</td>\n",
       "      <td>yes</td>\n",
       "      <td>A</td>\n",
       "      <td>survived</td>\n",
       "      <td>NaN</td>\n",
       "      <td>Improved</td>\n",
       "      <td>NaN</td>\n",
       "    </tr>\n",
       "    <tr>\n",
       "      <th>1</th>\n",
       "      <td>106606</td>\n",
       "      <td>shamsa</td>\n",
       "      <td>26/7/2020</td>\n",
       "      <td>yes</td>\n",
       "      <td>27/7/2020</td>\n",
       "      <td>NaN</td>\n",
       "      <td>A</td>\n",
       "      <td>A</td>\n",
       "      <td>H</td>\n",
       "      <td>H</td>\n",
       "      <td>C</td>\n",
       "      <td>A</td>\n",
       "      <td>6.0</td>\n",
       "      <td>A</td>\n",
       "      <td>D</td>\n",
       "      <td>H</td>\n",
       "      <td>NaN</td>\n",
       "      <td>E</td>\n",
       "      <td>A</td>\n",
       "      <td>A</td>\n",
       "      <td>A</td>\n",
       "      <td>A</td>\n",
       "      <td>C</td>\n",
       "      <td>A</td>\n",
       "      <td>B</td>\n",
       "      <td>B</td>\n",
       "      <td>B</td>\n",
       "      <td>E</td>\n",
       "      <td>A</td>\n",
       "      <td>A</td>\n",
       "      <td>A</td>\n",
       "      <td>2020-12-08 00:00:00</td>\n",
       "      <td>A</td>\n",
       "      <td>A</td>\n",
       "      <td>A</td>\n",
       "      <td>A</td>\n",
       "      <td>NaN</td>\n",
       "      <td>NaN</td>\n",
       "      <td>NaN</td>\n",
       "      <td>NaN</td>\n",
       "      <td>NaN</td>\n",
       "      <td>no</td>\n",
       "      <td>NaN</td>\n",
       "      <td>NaN</td>\n",
       "      <td>NaN</td>\n",
       "      <td>NaN</td>\n",
       "      <td>NaN</td>\n",
       "      <td>NaN</td>\n",
       "      <td>NaN</td>\n",
       "      <td>NaN</td>\n",
       "      <td>NaN</td>\n",
       "      <td>NaN</td>\n",
       "      <td>NaN</td>\n",
       "      <td>no</td>\n",
       "      <td>no</td>\n",
       "      <td>no</td>\n",
       "      <td>NaN</td>\n",
       "      <td>1</td>\n",
       "      <td>yes</td>\n",
       "      <td>no</td>\n",
       "      <td>NaN</td>\n",
       "      <td>NaN</td>\n",
       "      <td>B</td>\n",
       "      <td>H</td>\n",
       "      <td>NaN</td>\n",
       "      <td>NaN</td>\n",
       "      <td>A</td>\n",
       "      <td>C</td>\n",
       "      <td>NaN</td>\n",
       "      <td>NaN</td>\n",
       "      <td>98.0</td>\n",
       "      <td>NaN</td>\n",
       "      <td>A</td>\n",
       "      <td>no</td>\n",
       "      <td>no</td>\n",
       "      <td>NaN</td>\n",
       "      <td>survived</td>\n",
       "      <td>NaN</td>\n",
       "      <td>Improved</td>\n",
       "      <td>NaN</td>\n",
       "    </tr>\n",
       "    <tr>\n",
       "      <th>2</th>\n",
       "      <td>117524</td>\n",
       "      <td>muna</td>\n",
       "      <td>2020-08-06 00:00:00</td>\n",
       "      <td>no</td>\n",
       "      <td>2020-11-06 00:00:00</td>\n",
       "      <td>2020-11-06 00:00:00</td>\n",
       "      <td>B</td>\n",
       "      <td>A</td>\n",
       "      <td>H</td>\n",
       "      <td>H</td>\n",
       "      <td>C</td>\n",
       "      <td>A</td>\n",
       "      <td>4.0</td>\n",
       "      <td>A</td>\n",
       "      <td>D</td>\n",
       "      <td>E</td>\n",
       "      <td>I</td>\n",
       "      <td>A</td>\n",
       "      <td>C</td>\n",
       "      <td>B</td>\n",
       "      <td>B</td>\n",
       "      <td>C</td>\n",
       "      <td>C</td>\n",
       "      <td>A</td>\n",
       "      <td>B</td>\n",
       "      <td>B</td>\n",
       "      <td>B</td>\n",
       "      <td>B</td>\n",
       "      <td>B</td>\n",
       "      <td>B</td>\n",
       "      <td>A</td>\n",
       "      <td>26/7/2020</td>\n",
       "      <td>mdro</td>\n",
       "      <td>Klebsleela</td>\n",
       "      <td>C</td>\n",
       "      <td>A</td>\n",
       "      <td>A</td>\n",
       "      <td>yes</td>\n",
       "      <td>NaN</td>\n",
       "      <td>NaN</td>\n",
       "      <td>NaN</td>\n",
       "      <td>yes</td>\n",
       "      <td>NaN</td>\n",
       "      <td>NaN</td>\n",
       "      <td>NaN</td>\n",
       "      <td>NaN</td>\n",
       "      <td>yes</td>\n",
       "      <td>yes</td>\n",
       "      <td>yes</td>\n",
       "      <td>NaN</td>\n",
       "      <td>NaN</td>\n",
       "      <td>5</td>\n",
       "      <td>25/8/2020</td>\n",
       "      <td>yes</td>\n",
       "      <td>no</td>\n",
       "      <td>no</td>\n",
       "      <td>NaN</td>\n",
       "      <td>19</td>\n",
       "      <td>yes</td>\n",
       "      <td>yes</td>\n",
       "      <td>NaN</td>\n",
       "      <td>NaN</td>\n",
       "      <td>A</td>\n",
       "      <td>H</td>\n",
       "      <td>A</td>\n",
       "      <td>NaN</td>\n",
       "      <td>B</td>\n",
       "      <td>C</td>\n",
       "      <td>B</td>\n",
       "      <td>15.0</td>\n",
       "      <td>84.0</td>\n",
       "      <td>3.0</td>\n",
       "      <td>B</td>\n",
       "      <td>yes</td>\n",
       "      <td>yes</td>\n",
       "      <td>D</td>\n",
       "      <td>2021-01-07 00:00:00</td>\n",
       "      <td>AD</td>\n",
       "      <td>Death</td>\n",
       "      <td>NaN</td>\n",
       "    </tr>\n",
       "    <tr>\n",
       "      <th>3</th>\n",
       "      <td>621864</td>\n",
       "      <td>Nasra</td>\n",
       "      <td>2020-12-09 00:00:00</td>\n",
       "      <td>no</td>\n",
       "      <td>13/9/2020</td>\n",
       "      <td>13/9/2020</td>\n",
       "      <td>A</td>\n",
       "      <td>B</td>\n",
       "      <td>H</td>\n",
       "      <td>H</td>\n",
       "      <td>C</td>\n",
       "      <td>A</td>\n",
       "      <td>2.0</td>\n",
       "      <td>I</td>\n",
       "      <td>I</td>\n",
       "      <td>NaN</td>\n",
       "      <td>NaN</td>\n",
       "      <td>E</td>\n",
       "      <td>A</td>\n",
       "      <td>A</td>\n",
       "      <td>A</td>\n",
       "      <td>D</td>\n",
       "      <td>D</td>\n",
       "      <td>A</td>\n",
       "      <td>B</td>\n",
       "      <td>B</td>\n",
       "      <td>B</td>\n",
       "      <td>E</td>\n",
       "      <td>A</td>\n",
       "      <td>A</td>\n",
       "      <td>A</td>\n",
       "      <td>2020-12-09 00:00:00</td>\n",
       "      <td>A</td>\n",
       "      <td>A</td>\n",
       "      <td>A</td>\n",
       "      <td>A</td>\n",
       "      <td>B</td>\n",
       "      <td>5</td>\n",
       "      <td>13/9/2020</td>\n",
       "      <td>5</td>\n",
       "      <td>5</td>\n",
       "      <td>NaN</td>\n",
       "      <td>NaN</td>\n",
       "      <td>NaN</td>\n",
       "      <td>NaN</td>\n",
       "      <td>NaN</td>\n",
       "      <td>NaN</td>\n",
       "      <td>NaN</td>\n",
       "      <td>NaN</td>\n",
       "      <td>NaN</td>\n",
       "      <td>NaN</td>\n",
       "      <td>NaN</td>\n",
       "      <td>NaN</td>\n",
       "      <td>no</td>\n",
       "      <td>no</td>\n",
       "      <td>no</td>\n",
       "      <td>NaN</td>\n",
       "      <td>NaN</td>\n",
       "      <td>NaN</td>\n",
       "      <td>no</td>\n",
       "      <td>NaN</td>\n",
       "      <td>NaN</td>\n",
       "      <td>C</td>\n",
       "      <td>H</td>\n",
       "      <td>C</td>\n",
       "      <td>NaN</td>\n",
       "      <td>A</td>\n",
       "      <td>A</td>\n",
       "      <td>A</td>\n",
       "      <td>NaN</td>\n",
       "      <td>8.0</td>\n",
       "      <td>NaN</td>\n",
       "      <td>A</td>\n",
       "      <td>no</td>\n",
       "      <td>no</td>\n",
       "      <td>NaN</td>\n",
       "      <td>Improved</td>\n",
       "      <td>NaN</td>\n",
       "      <td>Improved</td>\n",
       "      <td>NaN</td>\n",
       "    </tr>\n",
       "    <tr>\n",
       "      <th>4</th>\n",
       "      <td>364342</td>\n",
       "      <td>laila</td>\n",
       "      <td>2020-01-09 00:00:00</td>\n",
       "      <td>no</td>\n",
       "      <td>2020-05-09 00:00:00</td>\n",
       "      <td>2020-11-09 00:00:00</td>\n",
       "      <td>B</td>\n",
       "      <td>B</td>\n",
       "      <td>H</td>\n",
       "      <td>A</td>\n",
       "      <td>C</td>\n",
       "      <td>A</td>\n",
       "      <td>4.0</td>\n",
       "      <td>NaN</td>\n",
       "      <td>H</td>\n",
       "      <td>NaN</td>\n",
       "      <td>NaN</td>\n",
       "      <td>E</td>\n",
       "      <td>A</td>\n",
       "      <td>A</td>\n",
       "      <td>A</td>\n",
       "      <td>D</td>\n",
       "      <td>B</td>\n",
       "      <td>B</td>\n",
       "      <td>B</td>\n",
       "      <td>B</td>\n",
       "      <td>B</td>\n",
       "      <td>E</td>\n",
       "      <td>A</td>\n",
       "      <td>A</td>\n",
       "      <td>A</td>\n",
       "      <td>2020-01-09 00:00:00</td>\n",
       "      <td>A</td>\n",
       "      <td>NaN</td>\n",
       "      <td>A</td>\n",
       "      <td>A</td>\n",
       "      <td>B</td>\n",
       "      <td>NaN</td>\n",
       "      <td>NaN</td>\n",
       "      <td>NaN</td>\n",
       "      <td>NaN</td>\n",
       "      <td>NaN</td>\n",
       "      <td>NaN</td>\n",
       "      <td>NaN</td>\n",
       "      <td>NaN</td>\n",
       "      <td>NaN</td>\n",
       "      <td>NaN</td>\n",
       "      <td>NaN</td>\n",
       "      <td>NaN</td>\n",
       "      <td>NaN</td>\n",
       "      <td>NaN</td>\n",
       "      <td>NaN</td>\n",
       "      <td>NaN</td>\n",
       "      <td>no</td>\n",
       "      <td>no</td>\n",
       "      <td>yes</td>\n",
       "      <td>12mg</td>\n",
       "      <td>NaN</td>\n",
       "      <td>NaN</td>\n",
       "      <td>no</td>\n",
       "      <td>NaN</td>\n",
       "      <td>NaN</td>\n",
       "      <td>B</td>\n",
       "      <td>F</td>\n",
       "      <td>A</td>\n",
       "      <td>NaN</td>\n",
       "      <td>B</td>\n",
       "      <td>B</td>\n",
       "      <td>NaN</td>\n",
       "      <td>NaN</td>\n",
       "      <td>98.0</td>\n",
       "      <td>NaN</td>\n",
       "      <td>B</td>\n",
       "      <td>no</td>\n",
       "      <td>no</td>\n",
       "      <td>NaN</td>\n",
       "      <td>Improved</td>\n",
       "      <td>NaN</td>\n",
       "      <td>Improved</td>\n",
       "      <td>NaN</td>\n",
       "    </tr>\n",
       "  </tbody>\n",
       "</table>\n",
       "</div>"
      ],
      "text/plain": [
       "     ptid     name                  DOA lama                  DOD  \\\n",
       "0  662631   shahra  2020-02-09 00:00:00   No            29/9/2020   \n",
       "1  106606  shamsa             26/7/2020  yes            27/7/2020   \n",
       "2  117524     muna  2020-08-06 00:00:00   no  2020-11-06 00:00:00   \n",
       "3  621864    Nasra  2020-12-09 00:00:00   no            13/9/2020   \n",
       "4  364342    laila  2020-01-09 00:00:00   no  2020-05-09 00:00:00   \n",
       "\n",
       "                   DOC age parity Gaatde como syatGA exposure  sympdays  \\\n",
       "0  2020-03-09 00:00:00   A      A      C    A      C        A      10.0   \n",
       "1                  NaN   A      A      H    H      C        A       6.0   \n",
       "2  2020-11-06 00:00:00   B      A      H    H      C        A       4.0   \n",
       "3            13/9/2020   A      B      H    H      C        A       2.0   \n",
       "4  2020-11-09 00:00:00   B      B      H    A      C        A       4.0   \n",
       "\n",
       "  Presenting symptoms Unnamed: 14 Unnamed: 15 Unnamed: 16 sign spo2 RR leuko  \\\n",
       "0                   A           F         NaN         NaN    B    C  B     A   \n",
       "1                   A           D           H         NaN    E    A  A     A   \n",
       "2                   A           D           E           I    A    C  B     B   \n",
       "3                   I           I         NaN         NaN    E    A  A     A   \n",
       "4                 NaN           H         NaN         NaN    E    A  A     A   \n",
       "\n",
       "  crp ldh hb low ly low Nlowpt lowplt ferritin NLR lft rft  \\\n",
       "0   B   A  A      B          B      B        c   A   A   A   \n",
       "1   A   C  A      B          B      B        E   A   A   A   \n",
       "2   C   C  A      B          B      B        B   B   B   A   \n",
       "3   D   D  A      B          B      B        E   A   A   A   \n",
       "4   D   B  B      B          B      B        E   A   A   A   \n",
       "\n",
       "                pcr dt other cs        bd c/s XRAy chest ct pron Azithromycin  \\\n",
       "0  2020-02-09 00:00:00        A  staphcoagneg          B  A    B          NaN   \n",
       "1  2020-12-08 00:00:00        A             A          A  A  NaN          NaN   \n",
       "2            26/7/2020     mdro    Klebsleela          C  A    A          yes   \n",
       "3  2020-12-09 00:00:00        A             A          A  A    B            5   \n",
       "4  2020-01-09 00:00:00        A           NaN          A  A    B          NaN   \n",
       "\n",
       "  Unnamed: 38 cefuroxi metro Toclizumab Unnamed: 42 capbofin       aulfungin  \\\n",
       "0         NaN      NaN   NaN         no         NaN      yes  20/9/2020 stat   \n",
       "1         NaN      NaN   NaN         no         NaN      NaN             NaN   \n",
       "2         NaN      NaN   NaN        yes         NaN      NaN             NaN   \n",
       "3   13/9/2020        5     5        NaN         NaN      NaN             NaN   \n",
       "4         NaN      NaN   NaN        NaN         NaN      NaN             NaN   \n",
       "\n",
       "                  clox vancomycin meropenam  Tazosin Unnamed: 49 Hydroxyc  \\\n",
       "0  2020-09-09 00:00:00        yes        yes     yes   13/9/2020      NaN   \n",
       "1                  NaN        NaN        NaN     NaN         NaN      NaN   \n",
       "2                  NaN        yes        yes     yes         NaN      NaN   \n",
       "3                  NaN        NaN        NaN     NaN         NaN      NaN   \n",
       "4                  NaN        NaN        NaN     NaN         NaN      NaN   \n",
       "\n",
       "  colistin Unnamed: 52 hydroc orpred  dex Unnamed: 56 lmwh befolmw lmwhafter  \\\n",
       "0        9   20/9/2020     no     no  yes         8mg           29       yes   \n",
       "1      NaN         NaN     no     no   no         NaN            1       yes   \n",
       "2        5   25/8/2020    yes     no   no         NaN           19       yes   \n",
       "3      NaN         NaN     no     no   no         NaN          NaN       NaN   \n",
       "4      NaN         NaN     no     no  yes        12mg          NaN       NaN   \n",
       "\n",
       "  Methyl pred  Unnamed: 60 plasma MOD postdel pregoutpregloss Unnamed: 65  \\\n",
       "0          no          NaN    NaN   A       G               A           A   \n",
       "1          no          NaN    NaN   B       H             NaN         NaN   \n",
       "2         yes          NaN    NaN   A       H               A         NaN   \n",
       "3          no          NaN    NaN   C       H               C         NaN   \n",
       "4          no          NaN    NaN   B       F               A         NaN   \n",
       "\n",
       "  pretrm  neo.outco  mdt  o2lt  spo2.1  dayofter csstat icucareint days  \\\n",
       "0       B         B    B  15.0    80.0       1.0      A             yes   \n",
       "1       A         C  NaN   NaN    98.0       NaN      A              no   \n",
       "2       B         C    B  15.0    84.0       3.0      B             yes   \n",
       "3       A         A    A   NaN     8.0       NaN      A              no   \n",
       "4       B         B  NaN   NaN    98.0       NaN      B              no   \n",
       "\n",
       "  intubaday clin courseDOD              dtof dth c of dth con of dis comments  \n",
       "0       yes               A             survived      NaN   Improved      NaN  \n",
       "1        no             NaN             survived      NaN   Improved      NaN  \n",
       "2       yes               D  2021-01-07 00:00:00       AD      Death      NaN  \n",
       "3        no             NaN             Improved      NaN   Improved      NaN  \n",
       "4        no             NaN             Improved      NaN   Improved      NaN  "
      ]
     },
     "execution_count": 19,
     "metadata": {},
     "output_type": "execute_result"
    }
   ],
   "source": [
    "df.head()"
   ]
  },
  {
   "cell_type": "code",
   "execution_count": 35,
   "id": "e03c6b18",
   "metadata": {},
   "outputs": [],
   "source": [
    "#Convert to datetime\n",
    "df['DOA'] = pd.to_datetime(df['DOA'])"
   ]
  },
  {
   "cell_type": "code",
   "execution_count": 58,
   "id": "b8c3ad76",
   "metadata": {},
   "outputs": [],
   "source": [
    "import math\n",
    "df[\"Year\"] = pd.DatetimeIndex(df['DOA']).year\n",
    "df[\"Year\"] =df[\"Year\"].astype(str).apply(lambda x: x.replace('.0',''))"
   ]
  },
  {
   "cell_type": "code",
   "execution_count": 66,
   "id": "927efab7",
   "metadata": {},
   "outputs": [
    {
     "name": "stderr",
     "output_type": "stream",
     "text": [
      "C:\\ProgramData\\Anaconda3\\lib\\site-packages\\seaborn\\_decorators.py:36: FutureWarning: Pass the following variable as a keyword arg: x. From version 0.12, the only valid positional argument will be `data`, and passing other arguments without an explicit keyword will result in an error or misinterpretation.\n",
      "  warnings.warn(\n"
     ]
    },
    {
     "data": {
      "text/plain": [
       "<AxesSubplot:xlabel='Year', ylabel='count'>"
      ]
     },
     "execution_count": 66,
     "metadata": {},
     "output_type": "execute_result"
    },
    {
     "data": {
      "image/png": "[encoded data removed]",
      "text/plain": [
       "<Figure size 432x504 with 1 Axes>"
      ]
     },
     "metadata": {},
     "output_type": "display_data"
    }
   ],
   "source": [
    "df['Year'].replace(\"nan\",np.NaN ,inplace=True)\n",
    "plt.figure(figsize = (6,7))\n",
    "sns.countplot(df[\"Year\"].dropna(), hue=df['dex'])"
   ]
  },
  {
   "cell_type": "code",
   "execution_count": 71,
   "id": "4d315a86",
   "metadata": {},
   "outputs": [],
   "source": [
    "def checkSteroids(cols):\n",
    "    hydroc = cols[0]\n",
    "    orped = cols[1]\n",
    "    dex = cols[2]\n",
    "    meth = cols[3]\n",
    "    \n",
    "    if \"yes\" in [hydroc , orped , dex , meth]:\n",
    "        return \"yes\"\n",
    "    else:\n",
    "        return \"no\"\n",
    "\n",
    "df['Steroids Given ?'] = df[steroids].apply(checkSteroids , axis =1)"
   ]
  },
  {
   "cell_type": "code",
   "execution_count": 75,
   "id": "3fc3e8bc",
   "metadata": {},
   "outputs": [
    {
     "data": {
      "text/html": [
       "<div>\n",
       "<style scoped>\n",
       "    .dataframe tbody tr th:only-of-type {\n",
       "        vertical-align: middle;\n",
       "    }\n",
       "\n",
       "    .dataframe tbody tr th {\n",
       "        vertical-align: top;\n",
       "    }\n",
       "\n",
       "    .dataframe thead th {\n",
       "        text-align: right;\n",
       "    }\n",
       "</style>\n",
       "<table border=\"1\" class=\"dataframe\">\n",
       "  <thead>\n",
       "    <tr style=\"text-align: right;\">\n",
       "      <th></th>\n",
       "      <th>hydroc</th>\n",
       "      <th>orpred</th>\n",
       "      <th>dex</th>\n",
       "      <th>Methyl pred</th>\n",
       "      <th>Steroids Given ?</th>\n",
       "    </tr>\n",
       "  </thead>\n",
       "  <tbody>\n",
       "    <tr>\n",
       "      <th>0</th>\n",
       "      <td>no</td>\n",
       "      <td>no</td>\n",
       "      <td>yes</td>\n",
       "      <td>no</td>\n",
       "      <td>yes</td>\n",
       "    </tr>\n",
       "    <tr>\n",
       "      <th>1</th>\n",
       "      <td>no</td>\n",
       "      <td>no</td>\n",
       "      <td>no</td>\n",
       "      <td>no</td>\n",
       "      <td>no</td>\n",
       "    </tr>\n",
       "    <tr>\n",
       "      <th>2</th>\n",
       "      <td>yes</td>\n",
       "      <td>no</td>\n",
       "      <td>no</td>\n",
       "      <td>yes</td>\n",
       "      <td>yes</td>\n",
       "    </tr>\n",
       "    <tr>\n",
       "      <th>3</th>\n",
       "      <td>no</td>\n",
       "      <td>no</td>\n",
       "      <td>no</td>\n",
       "      <td>no</td>\n",
       "      <td>no</td>\n",
       "    </tr>\n",
       "    <tr>\n",
       "      <th>4</th>\n",
       "      <td>no</td>\n",
       "      <td>no</td>\n",
       "      <td>yes</td>\n",
       "      <td>no</td>\n",
       "      <td>yes</td>\n",
       "    </tr>\n",
       "  </tbody>\n",
       "</table>\n",
       "</div>"
      ],
      "text/plain": [
       "  hydroc orpred  dex Methyl pred Steroids Given ?\n",
       "0     no     no  yes          no              yes\n",
       "1     no     no   no          no               no\n",
       "2    yes     no   no         yes              yes\n",
       "3     no     no   no          no               no\n",
       "4     no     no  yes          no              yes"
      ]
     },
     "execution_count": 75,
     "metadata": {},
     "output_type": "execute_result"
    }
   ],
   "source": [
    "df[[\"hydroc\",\"orpred\",\"dex\",\"Methyl pred\",\"Steroids Given ?\"]].head()"
   ]
  },
  {
   "cell_type": "code",
   "execution_count": 79,
   "id": "cb12969c",
   "metadata": {},
   "outputs": [
    {
     "name": "stderr",
     "output_type": "stream",
     "text": [
      "C:\\ProgramData\\Anaconda3\\lib\\site-packages\\seaborn\\_decorators.py:36: FutureWarning: Pass the following variable as a keyword arg: x. From version 0.12, the only valid positional argument will be `data`, and passing other arguments without an explicit keyword will result in an error or misinterpretation.\n",
      "  warnings.warn(\n"
     ]
    },
    {
     "data": {
      "text/plain": [
       "<AxesSubplot:xlabel='Steroids Given ?', ylabel='count'>"
      ]
     },
     "execution_count": 79,
     "metadata": {},
     "output_type": "execute_result"
    },
    {
     "data": {
      "image/png": "[encoded data removed]",
      "text/plain": [
       "<Figure size 576x504 with 1 Axes>"
      ]
     },
     "metadata": {},
     "output_type": "display_data"
    }
   ],
   "source": [
    "plt.figure(figsize = (8,7))\n",
    "sns.countplot(df['Steroids Given ?'], hue=df['con of dis'])"
   ]
  },
  {
   "cell_type": "code",
   "execution_count": 84,
   "id": "0fe0af59",
   "metadata": {},
   "outputs": [],
   "source": [
    "crp = df['crp']\n",
    "xray = df['XRAy chest']"
   ]
  },
  {
   "cell_type": "code",
   "execution_count": 85,
   "id": "dab3e9e4",
   "metadata": {},
   "outputs": [],
   "source": [
    "def severity(cols):\n",
    "    if cols == \"A\":\n",
    "        return \"mild\"\n",
    "    elif cols == \"B\":\n",
    "        return \"moderate\"\n",
    "    elif cols == \"C\":\n",
    "        return \"severe\"\n",
    "    else:\n",
    "        return \"not done\"\n",
    "\n",
    "df['crp'] = df['crp'].apply(severity)\n",
    "df['XRAy chest'] = df['XRAy chest'].apply(severity)"
   ]
  },
  {
   "cell_type": "code",
   "execution_count": 88,
   "id": "60f8bd70",
   "metadata": {},
   "outputs": [
    {
     "data": {
      "text/plain": [
       "0     moderate\n",
       "1         mild\n",
       "2       severe\n",
       "3         mild\n",
       "4         mild\n",
       "5         mild\n",
       "6       severe\n",
       "7         mild\n",
       "8     moderate\n",
       "9     moderate\n",
       "10        mild\n",
       "11        mild\n",
       "12        mild\n",
       "13      severe\n",
       "14    moderate\n",
       "15        mild\n",
       "16        mild\n",
       "17        mild\n",
       "18        mild\n",
       "19        mild\n",
       "20        mild\n",
       "21        mild\n",
       "22        mild\n",
       "23        mild\n",
       "24        mild\n",
       "25        mild\n",
       "26        mild\n",
       "27    not done\n",
       "28        mild\n",
       "29        mild\n",
       "30    moderate\n",
       "31    moderate\n",
       "32    moderate\n",
       "33        mild\n",
       "34      severe\n",
       "35      severe\n",
       "36        mild\n",
       "37    not done\n",
       "38        mild\n",
       "39    not done\n",
       "40    not done\n",
       "41    moderate\n",
       "42        mild\n",
       "43    not done\n",
       "44    not done\n",
       "45    moderate\n",
       "46    not done\n",
       "47        mild\n",
       "48        mild\n",
       "49    moderate\n",
       "50    not done\n",
       "51        mild\n",
       "52    not done\n",
       "53        mild\n",
       "54        mild\n",
       "55        mild\n",
       "56        mild\n",
       "57        mild\n",
       "58      severe\n",
       "Name: XRAy chest, dtype: object"
      ]
     },
     "execution_count": 88,
     "metadata": {},
     "output_type": "execute_result"
    }
   ],
   "source": [
    "xray"
   ]
  },
  {
   "cell_type": "code",
   "execution_count": null,
   "id": "18ab0cf4",
   "metadata": {},
   "outputs": [],
   "source": []
  },
  {
   "cell_type": "code",
   "execution_count": 89,
   "id": "ea9276be",
   "metadata": {},
   "outputs": [],
   "source": [
    "# a if condition else b\n",
    "\n",
    "def checkSeverity(cols):\n",
    "    crp = cols[0]\n",
    "    xray = cols[1]\n",
    "    \n",
    "    dict = {\"not done\": 0 ,\"mild\":1 , \"moderate\" : 2 , \"severe\" : 3}\n",
    "    crp_value = dict[crp]\n",
    "    xray_value = dict[xray]\n",
    "    \n",
    "    \n",
    "    if crp == xray:\n",
    "        return crp\n",
    "    else:\n",
    "        return xray if xray_value > crp_value else crp\n",
    "    \n",
    "    \n",
    "    \n",
    "    \n",
    "    \n",
    "df['Severity'] = df[['crp', 'XRAy chest']].apply(checkSeverity , axis =1)"
   ]
  },
  {
   "cell_type": "code",
   "execution_count": 95,
   "id": "980da5a6",
   "metadata": {},
   "outputs": [
    {
     "name": "stderr",
     "output_type": "stream",
     "text": [
      "C:\\ProgramData\\Anaconda3\\lib\\site-packages\\seaborn\\_decorators.py:36: FutureWarning: Pass the following variable as a keyword arg: x. From version 0.12, the only valid positional argument will be `data`, and passing other arguments without an explicit keyword will result in an error or misinterpretation.\n",
      "  warnings.warn(\n"
     ]
    },
    {
     "data": {
      "text/plain": [
       "<AxesSubplot:xlabel='Severity', ylabel='count'>"
      ]
     },
     "execution_count": 95,
     "metadata": {},
     "output_type": "execute_result"
    },
    {
     "data": {
      "image/png": "[encoded data removed]",
      "text/plain": [
       "<Figure size 720x648 with 1 Axes>"
      ]
     },
     "metadata": {},
     "output_type": "display_data"
    }
   ],
   "source": [
    "plt.figure(figsize = (10,9))\n",
    "sns.countplot(df['Severity'])"
   ]
  },
  {
   "cell_type": "code",
   "execution_count": 97,
   "id": "9cdc210f",
   "metadata": {},
   "outputs": [
    {
     "name": "stderr",
     "output_type": "stream",
     "text": [
      "C:\\ProgramData\\Anaconda3\\lib\\site-packages\\seaborn\\_decorators.py:36: FutureWarning: Pass the following variable as a keyword arg: x. From version 0.12, the only valid positional argument will be `data`, and passing other arguments without an explicit keyword will result in an error or misinterpretation.\n",
      "  warnings.warn(\n"
     ]
    },
    {
     "data": {
      "text/plain": [
       "<AxesSubplot:xlabel='Severity', ylabel='count'>"
      ]
     },
     "execution_count": 97,
     "metadata": {},
     "output_type": "execute_result"
    },
    {
     "data": {
      "image/png": "[encoded data removed]",
      "text/plain": [
       "<Figure size 864x648 with 1 Axes>"
      ]
     },
     "metadata": {},
     "output_type": "display_data"
    }
   ],
   "source": [
    "plt.figure(figsize = (12,9))\n",
    "sns.countplot(df['Severity'] , hue = df['Steroids Given ?'])"
   ]
  },
  {
   "cell_type": "code",
   "execution_count": 101,
   "id": "384e4ddd",
   "metadata": {},
   "outputs": [
    {
     "name": "stderr",
     "output_type": "stream",
     "text": [
      "C:\\ProgramData\\Anaconda3\\lib\\site-packages\\seaborn\\_decorators.py:36: FutureWarning: Pass the following variable as a keyword arg: x. From version 0.12, the only valid positional argument will be `data`, and passing other arguments without an explicit keyword will result in an error or misinterpretation.\n",
      "  warnings.warn(\n"
     ]
    },
    {
     "data": {
      "text/plain": [
       "<AxesSubplot:xlabel='icucareint days', ylabel='count'>"
      ]
     },
     "execution_count": 101,
     "metadata": {},
     "output_type": "execute_result"
    },
    {
     "data": {
      "image/png": "[encoded data removed]",
      "text/plain": [
       "<Figure size 864x648 with 1 Axes>"
      ]
     },
     "metadata": {},
     "output_type": "display_data"
    }
   ],
   "source": [
    "# df[['icucareint days','sympdays']]\n",
    "plt.figure(figsize = (12,9))\n",
    "sns.countplot(df['icucareint days'] , hue = df['sympdays'])"
   ]
  },
  {
   "cell_type": "code",
   "execution_count": 103,
   "id": "36ba795c",
   "metadata": {},
   "outputs": [
    {
     "data": {
      "text/plain": [
       "array([ 0.        ,  3.33333333,  6.66666667, 10.        ])"
      ]
     },
     "execution_count": 103,
     "metadata": {},
     "output_type": "execute_result"
    }
   ],
   "source": [
    "symp_groups = np.linspace(0,10,4)\n",
    "symp_groups"
   ]
  },
  {
   "cell_type": "code",
   "execution_count": 104,
   "id": "adff11f2",
   "metadata": {},
   "outputs": [],
   "source": [
    "df['Symptom Days'] = pd.cut(df['sympdays'] , symp_groups , labels = ['0-3' , '4-6' , '7-10'], include_lowest=True)"
   ]
  },
  {
   "cell_type": "code",
   "execution_count": 107,
   "id": "00426870",
   "metadata": {},
   "outputs": [
    {
     "name": "stderr",
     "output_type": "stream",
     "text": [
      "C:\\ProgramData\\Anaconda3\\lib\\site-packages\\seaborn\\_decorators.py:36: FutureWarning: Pass the following variable as a keyword arg: x. From version 0.12, the only valid positional argument will be `data`, and passing other arguments without an explicit keyword will result in an error or misinterpretation.\n",
      "  warnings.warn(\n"
     ]
    },
    {
     "data": {
      "text/plain": [
       "<AxesSubplot:xlabel='icucareint days', ylabel='count'>"
      ]
     },
     "execution_count": 107,
     "metadata": {},
     "output_type": "execute_result"
    },
    {
     "data": {
      "image/png": "[encoded data removed]",
      "text/plain": [
       "<Figure size 864x648 with 1 Axes>"
      ]
     },
     "metadata": {},
     "output_type": "display_data"
    }
   ],
   "source": [
    "# df[['icucareint days','sympdays']]\n",
    "plt.figure(figsize = (12,9))\n",
    "sns.countplot(df['icucareint days'] , hue = df['Symptom Days'])"
   ]
  },
  {
   "cell_type": "code",
   "execution_count": 110,
   "id": "2620ae96",
   "metadata": {},
   "outputs": [],
   "source": [
    "def comob(col):\n",
    "    dict = {\"A\":\"Diabetes\" , \"B\": \"Obese\" , \"C\":\"Asthama\" , \"F\":\"Hypertension\"}\n",
    "    if col in [\"A\" ,\"B\" , \"C\" , \"F\"]:\n",
    "        return dict[col]\n",
    "    else:\n",
    "        return \"Others\"\n",
    "    \n",
    "df['Comorbidity'] = df['como'].apply(comob)"
   ]
  },
  {
   "cell_type": "code",
   "execution_count": 113,
   "id": "1773f29e",
   "metadata": {},
   "outputs": [
    {
     "name": "stderr",
     "output_type": "stream",
     "text": [
      "C:\\ProgramData\\Anaconda3\\lib\\site-packages\\seaborn\\_decorators.py:36: FutureWarning: Pass the following variable as a keyword arg: x. From version 0.12, the only valid positional argument will be `data`, and passing other arguments without an explicit keyword will result in an error or misinterpretation.\n",
      "  warnings.warn(\n"
     ]
    },
    {
     "data": {
      "text/plain": [
       "<AxesSubplot:xlabel='Comorbidity', ylabel='count'>"
      ]
     },
     "execution_count": 113,
     "metadata": {},
     "output_type": "execute_result"
    },
    {
     "data": {
      "image/png": "[encoded data removed]",
      "text/plain": [
       "<Figure size 864x648 with 1 Axes>"
      ]
     },
     "metadata": {},
     "output_type": "display_data"
    }
   ],
   "source": [
    "plt.figure(figsize = (12,9))\n",
    "sns.countplot(df['Comorbidity'] , hue = df['Severity'])"
   ]
  },
  {
   "cell_type": "code",
   "execution_count": 123,
   "id": "4465ffb6",
   "metadata": {},
   "outputs": [],
   "source": [
    "# NLR\n",
    "\n",
    "def nlr(col):\n",
    "    dict = {\"A\":\"Normal\" , \"B\":\">4\" , \"C\":\"Not Done\"}\n",
    "    return dict[col]\n",
    "\n",
    "def ferr(col):\n",
    "    dict= {\"A\":\"<300\" , \"B\":\">300\" , \"C\": \">600\" , \"D\": \"Doubling in 24 hrs\", \"E\": \"Not Done\" }\n",
    "    return dict[col]\n",
    "\n",
    "def ldh(col):\n",
    "    dict = {\"A\": \">250\" , \"B\" : \"<250\" ,\"C\":\"Not Done\"}\n",
    "    return dict[col]\n",
    "\n",
    "df['NLR'] = df['NLR'].apply(nlr)\n",
    "df['ferritin'] = df['ferritin'].apply(ferr)\n",
    "df['ldh'] = df['ldh'].apply(ldh)"
   ]
  },
  {
   "cell_type": "code",
   "execution_count": 129,
   "id": "8eea56c7",
   "metadata": {},
   "outputs": [
    {
     "name": "stderr",
     "output_type": "stream",
     "text": [
      "C:\\ProgramData\\Anaconda3\\lib\\site-packages\\seaborn\\_decorators.py:36: FutureWarning: Pass the following variable as a keyword arg: x. From version 0.12, the only valid positional argument will be `data`, and passing other arguments without an explicit keyword will result in an error or misinterpretation.\n",
      "  warnings.warn(\n"
     ]
    },
    {
     "data": {
      "text/plain": [
       "<AxesSubplot:xlabel='NLR', ylabel='count'>"
      ]
     },
     "execution_count": 129,
     "metadata": {},
     "output_type": "execute_result"
    },
    {
     "data": {
      "image/png": "[encoded data removed]",
      "text/plain": [
       "<Figure size 864x648 with 1 Axes>"
      ]
     },
     "metadata": {},
     "output_type": "display_data"
    }
   ],
   "source": [
    "plt.figure(figsize = (12,9))\n",
    "sns.countplot(df['NLR'],hue=df['Severity'])"
   ]
  },
  {
   "cell_type": "code",
   "execution_count": 132,
   "id": "c7aca067",
   "metadata": {},
   "outputs": [
    {
     "name": "stderr",
     "output_type": "stream",
     "text": [
      "C:\\ProgramData\\Anaconda3\\lib\\site-packages\\seaborn\\_decorators.py:36: FutureWarning: Pass the following variable as a keyword arg: x. From version 0.12, the only valid positional argument will be `data`, and passing other arguments without an explicit keyword will result in an error or misinterpretation.\n",
      "  warnings.warn(\n"
     ]
    },
    {
     "data": {
      "text/plain": [
       "<AxesSubplot:xlabel='ferritin', ylabel='count'>"
      ]
     },
     "execution_count": 132,
     "metadata": {},
     "output_type": "execute_result"
    },
    {
     "data": {
      "image/png": "[encoded data removed]",
      "text/plain": [
       "<Figure size 936x648 with 1 Axes>"
      ]
     },
     "metadata": {},
     "output_type": "display_data"
    }
   ],
   "source": [
    "plt.figure(figsize = (13,9))\n",
    "sns.countplot(df['ferritin'],hue=df['Severity'])"
   ]
  },
  {
   "cell_type": "code",
   "execution_count": 133,
   "id": "264dab11",
   "metadata": {},
   "outputs": [
    {
     "name": "stderr",
     "output_type": "stream",
     "text": [
      "C:\\ProgramData\\Anaconda3\\lib\\site-packages\\seaborn\\_decorators.py:36: FutureWarning: Pass the following variable as a keyword arg: x. From version 0.12, the only valid positional argument will be `data`, and passing other arguments without an explicit keyword will result in an error or misinterpretation.\n",
      "  warnings.warn(\n"
     ]
    },
    {
     "data": {
      "text/plain": [
       "<AxesSubplot:xlabel='ldh', ylabel='count'>"
      ]
     },
     "execution_count": 133,
     "metadata": {},
     "output_type": "execute_result"
    },
    {
     "data": {
      "image/png": "[encoded data removed]",
      "text/plain": [
       "<Figure size 864x648 with 1 Axes>"
      ]
     },
     "metadata": {},
     "output_type": "display_data"
    }
   ],
   "source": [
    "plt.figure(figsize = (12,9))\n",
    "sns.countplot(df['ldh'],hue=df['Severity'])"
   ]
  },
  {
   "cell_type": "code",
   "execution_count": 140,
   "id": "9d1fb315",
   "metadata": {},
   "outputs": [
    {
     "data": {
      "text/plain": [
       "0"
      ]
     },
     "execution_count": 140,
     "metadata": {},
     "output_type": "execute_result"
    }
   ],
   "source": [
    "df['pretrm '].replace(np.NaN , \"C\" , inplace = True)\n",
    "df['pretrm '].isna().sum()"
   ]
  },
  {
   "cell_type": "code",
   "execution_count": 141,
   "id": "e4e5e21d",
   "metadata": {},
   "outputs": [],
   "source": [
    "def preterm(col):\n",
    "    dict = {\"A\" : \"No\" , \"B\": \"Yes\" , \"C\": \"Not yet delivered\"}\n",
    "    return dict[col]\n",
    "df['Preterm'] = df['pretrm '].apply(preterm)"
   ]
  },
  {
   "cell_type": "code",
   "execution_count": 146,
   "id": "fa5545ed",
   "metadata": {},
   "outputs": [
    {
     "name": "stderr",
     "output_type": "stream",
     "text": [
      "C:\\ProgramData\\Anaconda3\\lib\\site-packages\\seaborn\\_decorators.py:36: FutureWarning: Pass the following variable as a keyword arg: x. From version 0.12, the only valid positional argument will be `data`, and passing other arguments without an explicit keyword will result in an error or misinterpretation.\n",
      "  warnings.warn(\n"
     ]
    },
    {
     "data": {
      "text/plain": [
       "<AxesSubplot:xlabel='NLR', ylabel='count'>"
      ]
     },
     "execution_count": 146,
     "metadata": {},
     "output_type": "execute_result"
    },
    {
     "data": {
      "image/png": "[encoded data removed]",
      "text/plain": [
       "<Figure size 864x648 with 1 Axes>"
      ]
     },
     "metadata": {},
     "output_type": "display_data"
    }
   ],
   "source": [
    "plt.figure(figsize = (12,9))\n",
    "sns.countplot(df['NLR'],hue=df['Severity'])"
   ]
  },
  {
   "cell_type": "code",
   "execution_count": 147,
   "id": "61daa93e",
   "metadata": {},
   "outputs": [
    {
     "name": "stderr",
     "output_type": "stream",
     "text": [
      "C:\\ProgramData\\Anaconda3\\lib\\site-packages\\seaborn\\_decorators.py:36: FutureWarning: Pass the following variable as a keyword arg: x. From version 0.12, the only valid positional argument will be `data`, and passing other arguments without an explicit keyword will result in an error or misinterpretation.\n",
      "  warnings.warn(\n"
     ]
    },
    {
     "data": {
      "text/plain": [
       "<AxesSubplot:xlabel='Preterm', ylabel='count'>"
      ]
     },
     "execution_count": 147,
     "metadata": {},
     "output_type": "execute_result"
    },
    {
     "data": {
      "image/png": "[encoded data removed]",
      "text/plain": [
       "<Figure size 864x648 with 1 Axes>"
      ]
     },
     "metadata": {},
     "output_type": "display_data"
    }
   ],
   "source": [
    "plt.figure(figsize = (12,9))\n",
    "sns.countplot(df['Preterm'], hue= df['Severity'])"
   ]
  },
  {
   "cell_type": "code",
   "execution_count": 148,
   "id": "456cb0ed",
   "metadata": {},
   "outputs": [
    {
     "data": {
      "text/plain": [
       "0"
      ]
     },
     "execution_count": 148,
     "metadata": {},
     "output_type": "execute_result"
    }
   ],
   "source": [
    "df['csstat'].replace(np.NaN , \"B\", inplace = True)\n",
    "df['csstat'].isna().sum()"
   ]
  },
  {
   "cell_type": "code",
   "execution_count": 151,
   "id": "8a9e5a39",
   "metadata": {},
   "outputs": [],
   "source": [
    "def csstat(col):\n",
    "    dict = {\"A\":\"Critical\" , \"B\": \"Improved\"}\n",
    "    return dict[col]\n",
    "\n",
    "df['Clinical Condition at CS'] = df['csstat'].apply(csstat)"
   ]
  },
  {
   "cell_type": "code",
   "execution_count": 153,
   "id": "dfff9dca",
   "metadata": {},
   "outputs": [
    {
     "name": "stderr",
     "output_type": "stream",
     "text": [
      "C:\\ProgramData\\Anaconda3\\lib\\site-packages\\seaborn\\_decorators.py:36: FutureWarning: Pass the following variable as a keyword arg: x. From version 0.12, the only valid positional argument will be `data`, and passing other arguments without an explicit keyword will result in an error or misinterpretation.\n",
      "  warnings.warn(\n"
     ]
    },
    {
     "data": {
      "text/plain": [
       "<AxesSubplot:xlabel='Clinical Condition at CS', ylabel='count'>"
      ]
     },
     "execution_count": 153,
     "metadata": {},
     "output_type": "execute_result"
    },
    {
     "data": {
      "image/png": "[encoded data removed]",
      "text/plain": [
       "<Figure size 864x648 with 1 Axes>"
      ]
     },
     "metadata": {},
     "output_type": "display_data"
    }
   ],
   "source": [
    "plt.figure(figsize = (12,9))\n",
    "sns.countplot(df['Clinical Condition at CS'] , hue = df['con of dis'])"
   ]
  },
  {
   "cell_type": "code",
   "execution_count": null,
   "id": "b48005c8",
   "metadata": {},
   "outputs": [],
   "source": []
  }
 ],
 "metadata": {
  "kernelspec": {
   "display_name": "Python 3",
   "language": "python",
   "name": "python3"
  },
  "language_info": {
   "codemirror_mode": {
    "name": "ipython",
    "version": 3
   },
   "file_extension": ".py",
   "mimetype": "text/x-python",
   "name": "python",
   "nbconvert_exporter": "python",
   "pygments_lexer": "ipython3",
   "version": "3.8.8"
  }
 },
 "nbformat": 4,
 "nbformat_minor": 5
}
